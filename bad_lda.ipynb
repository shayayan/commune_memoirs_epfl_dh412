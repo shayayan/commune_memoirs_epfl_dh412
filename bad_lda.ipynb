{
 "cells": [
  {
   "cell_type": "code",
   "execution_count": 1,
   "id": "c8b36ad0",
   "metadata": {},
   "outputs": [],
   "source": [
    "import pandas as pd\n",
    "import numpy as np\n",
    "from collections import Counter\n",
    "import nltk\n",
    "import gensim\n",
    "import re\n",
    "import pickle\n",
    "import json\n",
    "import string\n",
    "from tqdm import tqdm"
   ]
  },
  {
   "cell_type": "code",
   "execution_count": 2,
   "id": "6b86969c",
   "metadata": {},
   "outputs": [],
   "source": [
    "import spacy\n",
    "nlp = spacy.load('fr_core_news_md')"
   ]
  },
  {
   "cell_type": "code",
   "execution_count": 3,
   "id": "7bcb362d",
   "metadata": {},
   "outputs": [
    {
     "name": "stderr",
     "output_type": "stream",
     "text": [
      "[nltk_data] Downloading package stopwords to\n",
      "[nltk_data]     C:\\Users\\shaya\\AppData\\Roaming\\nltk_data...\n",
      "[nltk_data]   Package stopwords is already up-to-date!\n"
     ]
    },
    {
     "data": {
      "text/plain": [
       "True"
      ]
     },
     "execution_count": 3,
     "metadata": {},
     "output_type": "execute_result"
    }
   ],
   "source": [
    "from nltk.stem.snowball import FrenchStemmer\n",
    "from nltk.tokenize import word_tokenize\n",
    "from nltk.corpus import stopwords\n",
    "nltk.download('stopwords')"
   ]
  },
  {
   "cell_type": "code",
   "execution_count": 4,
   "id": "1991b824",
   "metadata": {},
   "outputs": [],
   "source": [
    "from collections import Counter\n",
    "from gensim import corpora\n",
    "from gensim.models.ldamodel import LdaModel\n",
    "from gensim.models.coherencemodel import CoherenceModel"
   ]
  },
  {
   "cell_type": "code",
   "execution_count": 5,
   "id": "06bd5bce",
   "metadata": {},
   "outputs": [],
   "source": [
    "stop_words = set(stopwords.words('french'))"
   ]
  },
  {
   "cell_type": "code",
   "execution_count": 6,
   "id": "f180fd2f",
   "metadata": {},
   "outputs": [
    {
     "data": {
      "text/plain": [
       "172"
      ]
     },
     "execution_count": 6,
     "metadata": {},
     "output_type": "execute_result"
    }
   ],
   "source": [
    "stop_words.add(\"n'\")\n",
    "stop_words.add(\"l'\")\n",
    "stop_words.add(\"d'\")\n",
    "stop_words.add(\"c'\")\n",
    "stop_words.add(\"qu'\")\n",
    "stop_words.add(\"quelqu'\")\n",
    "stop_words.add(\"quelqu\")\n",
    "stop_words.add(\"s'\")\n",
    "stop_words.add(\"n’\")\n",
    "stop_words.add(\"l’\")\n",
    "stop_words.add(\"d’\")\n",
    "stop_words.add(\"c’\")\n",
    "stop_words.add(\"qu’\")\n",
    "stop_words.add(\"quelqu’\")\n",
    "stop_words.add(\"s’\")\n",
    "len(stop_words)"
   ]
  },
  {
   "cell_type": "code",
   "execution_count": 7,
   "id": "f0998361",
   "metadata": {},
   "outputs": [
    {
     "data": {
      "text/plain": [
       "496"
      ]
     },
     "execution_count": 7,
     "metadata": {},
     "output_type": "execute_result"
    }
   ],
   "source": [
    "# Specify the path to your JSON file\n",
    "json_file_path = 'stop_words_french.json'\n",
    "\n",
    "# Open the JSON file\n",
    "with open(json_file_path, encoding='utf-8') as json_file:\n",
    "    # Load the JSON data\n",
    "    stopwords = json.load(json_file)\n",
    "len(stopwords)"
   ]
  },
  {
   "cell_type": "code",
   "execution_count": 8,
   "id": "7267a1f0",
   "metadata": {},
   "outputs": [],
   "source": [
    "stopwords = set(stopwords).union(stop_words)"
   ]
  },
  {
   "cell_type": "code",
   "execution_count": 9,
   "id": "dbaf613d",
   "metadata": {},
   "outputs": [],
   "source": [
    "with open('memoirs_preprocessed.pkl', 'rb') as f:\n",
    "    data = pickle.load(f)"
   ]
  },
  {
   "cell_type": "code",
   "execution_count": 10,
   "id": "fe2b6f42",
   "metadata": {},
   "outputs": [],
   "source": [
    "def extract_woi_context(commune_memoirs, wois, method, count = 0):\n",
    "\n",
    "    woi_context_extraction = pd.DataFrame(columns=['filename', 'memoir_len_sans_sb_pb', 'bias', 'woi', 'woi_location', 'extraction_method', 'text'])\n",
    "\n",
    "    for i, row in tqdm(commune_memoirs.iterrows()):\n",
    "\n",
    "        filename = row[0]\n",
    "\n",
    "        # commented out because this will corrupt lengths by token count\n",
    "        #if filename == \"du_camp_1.txt\" or filename == \"du_camp_2.txt\":\n",
    "        #    filename = \"du_camp.txt\"\n",
    "        #if filename == \"arnould_1.txt\" or filename == \"arnould_2.txt\" or filename == \"arnould_3.txt\":\n",
    "        #    filename = \"arnould.txt\"\n",
    "        #if filename == \"cluseret_1.txt\" or filename == \"cluseret_2.txt\" or filename == \"cluseret_3.txt\":\n",
    "        #    filename = \"cluseret.txt\"\n",
    "        #if filename == \"da_costa_1.txt\" or filename == \"da_costa_2.txt\" or filename == \"da_costa_3.txt\":\n",
    "        #    filename = \"da_costa.txt\"\n",
    "\n",
    "        bias = row[1]\n",
    "        text = row[2]\n",
    "        \n",
    "        memoir_len_sans_sb_pb = len([token for token in text.split() if token not in [\"<sb>\",\"<pb>\"]])\n",
    "\n",
    "        text_lower = text.lower()\n",
    "        for woi in wois:\n",
    "            if woi.lower() in text_lower:\n",
    "                indices_object = re.finditer(pattern=r'\\b{}\\b'.format(re.escape(woi.lower())), string=text_lower)\n",
    "                indices = [index.start() for index in indices_object]\n",
    "                for location in indices:\n",
    "                    if method == \"token\" or method == \"character\":\n",
    "                        method_s = str(method) + \", \" + str(count) + \" either side\"\n",
    "                        window_half = count\n",
    "                        if method == \"token\":\n",
    "                            pre_tokens = ' '.join(text_lower[:location].split()[-window_half:])\n",
    "                            post_tokens = ' '.join(text_lower[location:].split()[:window_half+len(woi.split())])\n",
    "                            tmp_sequence = pre_tokens + \" \" + post_tokens\n",
    "                            woi_location = len(pre_tokens) + 1\n",
    "                        if method == \"character\":\n",
    "                            pre_string = text_lower[:location][-window_half:]\n",
    "                            post_string = text_lower[location:][:window_half+len(woi)]\n",
    "                            tmp_sequence = pre_string + post_string\n",
    "                            woi_location = 0\n",
    "                            woi_location = len(pre_string)\n",
    "                    elif method == \"<sb>\" or method == \"<pb>\":\n",
    "                        method_s = method\n",
    "                        pre_string = text_lower[text_lower[:location].rfind(method):location]\n",
    "                        if \"<pb>\" in pre_string and method == \"<sb>\":\n",
    "                            pre_string = pre_string[pre_string.rfind(\"<pb>\"):]\n",
    "                        post_string_tmp = text_lower[location:]\n",
    "                        post_string = post_string_tmp[:post_string_tmp.find(method) + 4]\n",
    "                        if \"<pb>\" in post_string and method == \"<sb>\":\n",
    "                            post_string = post_string[:post_string.find(\"<pb>\")]\n",
    "                        tmp_sequence = pre_string + post_string\n",
    "                        woi_location = 0\n",
    "                        woi_location = len(pre_string)\n",
    "                    woi_context_extraction.loc[len(woi_context_extraction)] = [filename, memoir_len_sans_sb_pb, bias, woi, woi_location, method_s, tmp_sequence]\n",
    "    \n",
    "    return woi_context_extraction"
   ]
  },
  {
   "cell_type": "code",
   "execution_count": 11,
   "id": "08276f6f",
   "metadata": {},
   "outputs": [],
   "source": [
    "def lda(words):\n",
    "    df = extract_woi_context(data, words, \"<sb>\")\n",
    "    df.text = df.text.str.replace('<pb>', '')\n",
    "    df.text = df.text.str.replace('<sb>', '')\n",
    "    df.text = df.text.apply(lambda t : nlp(t))\n",
    "    df.text = df.text.apply(lambda i :[token.lemma_ for token in i if token.text not in stopwords])\n",
    "    \n",
    "    opinions = ['pro', 'anti']\n",
    "    ldas = []\n",
    "    for opinion in opinions : \n",
    "        df_opi = df[df.bias == opinion]\n",
    "        opi_values = list(df_opi.text.values)\n",
    "    \n",
    "        dic, corpus, words = pre_process(opi_values)\n",
    "        lda = LdaModel(corpus=corpus, id2word=dic, num_topics=3, \n",
    "                    alpha='auto',\n",
    "                    eta='auto',\n",
    "                    passes=10,\n",
    "                    iterations=500,\n",
    "                    eval_every=None,\n",
    "                    random_state=12345)\n",
    "        ldas.append(lda)\n",
    "    for index, lda in enumerate(ldas) : \n",
    "        print(f\"{opinions[index]}:\")\n",
    "        for idx, topic in lda.show_topics(num_topics=-1, num_words=10):\n",
    "            print(\"Topic %d:\" % (idx + 1))\n",
    "            print(topic)\n",
    "        print()"
   ]
  },
  {
   "cell_type": "markdown",
   "id": "796fc037",
   "metadata": {},
   "source": [
    "-----------------------------"
   ]
  },
  {
   "cell_type": "code",
   "execution_count": 12,
   "id": "0709bfe3",
   "metadata": {},
   "outputs": [],
   "source": [
    "names = ['rigault', 'favre', 'pyat', 'ferré']"
   ]
  },
  {
   "cell_type": "code",
   "execution_count": 13,
   "id": "34209ab4",
   "metadata": {},
   "outputs": [],
   "source": [
    "surnames = ['raoul', 'jules', 'félix', 'théophile']"
   ]
  },
  {
   "cell_type": "code",
   "execution_count": 14,
   "id": "00db0e31",
   "metadata": {},
   "outputs": [],
   "source": [
    "def lemmatize(text):\n",
    "    lemmas = []\n",
    "    for token in text:\n",
    "        if token.text.lower() not in stopwords and token.text.lower() not in surnames:\n",
    "            if token.ent_type_ == \"PERSON\" or token.text == 'paris':\n",
    "                lemmas.append(token.text)\n",
    "            elif token.text.lower() in surnames:\n",
    "                continue\n",
    "            else:\n",
    "                lemmas.append(token.lemma_)\n",
    "    return lemmas"
   ]
  },
  {
   "cell_type": "code",
   "execution_count": 15,
   "id": "7fd02998",
   "metadata": {},
   "outputs": [],
   "source": [
    "def pre_process(val):\n",
    "    dictionary = corpora.Dictionary(val)\n",
    "    corpus = [dictionary.doc2bow(v) for v in val]\n",
    "    return dictionary, corpus"
   ]
  },
  {
   "cell_type": "code",
   "execution_count": 16,
   "id": "bc9d3f9b",
   "metadata": {},
   "outputs": [],
   "source": [
    "def lda_full(words):\n",
    "    df = extract_woi_context(data, words, \"<sb>\")\n",
    "    df = df.drop_duplicates(subset='text', keep='first')\n",
    "    df.text = df.text.str.replace('<pb>', '')\n",
    "    df.text = df.text.str.replace('<sb>', '')\n",
    "    df.text = df.text.apply(lambda t : nlp(t))\n",
    "    df.text = df.text.apply(lemmatize)\n",
    "    \n",
    "    values = list(df.text.values)\n",
    "    values = [[word for word in group if word not in string.punctuation + \" \" + \"«\" + \"»\" + \"—\" ] for group in values]\n",
    "    num_lists = len(values)\n",
    "    word_count = Counter(w for t in values for w in t)\n",
    "    min_threshold = 5\n",
    "    max_threshold = num_lists * 0.9\n",
    "    values = [[word for word in group if min_threshold <= word_count[word] <= max_threshold] for group in values]\n",
    "\n",
    "    \n",
    "    \n",
    "    dic, corpus = pre_process(values)\n",
    "    lda = LdaModel(corpus=corpus, id2word=dic, num_topics=3, \n",
    "                alpha='auto',\n",
    "                eta='auto',\n",
    "                passes=10,\n",
    "                iterations=500,\n",
    "                eval_every=None,\n",
    "                random_state=12345)\n",
    "    \n",
    "    for idx, topic in lda.show_topics(num_topics=-1, num_words=10):\n",
    "        print(\"Topic %d:\" % (idx + 1))\n",
    "        print(topic)"
   ]
  },
  {
   "cell_type": "code",
   "execution_count": 17,
   "id": "8f98f93a",
   "metadata": {
    "scrolled": false
   },
   "outputs": [
    {
     "name": "stdout",
     "output_type": "stream",
     "text": [
      "raoul rigault\n"
     ]
    },
    {
     "name": "stderr",
     "output_type": "stream",
     "text": [
      "31it [00:01, 19.28it/s]\n"
     ]
    },
    {
     "name": "stdout",
     "output_type": "stream",
     "text": [
      "Topic 1:\n",
      "0.023*\"ordre\" + 0.022*\"police\" + 0.016*\"préfecture\" + 0.016*\"commune\" + 0.016*\"ferré\" + 0.011*\"trouver\" + 0.011*\"donner\" + 0.010*\"prendre\" + 0.010*\"exécution\" + 0.010*\"pouvoir\"\n",
      "Topic 2:\n",
      "0.035*\"commune\" + 0.027*\"citoyen\" + 0.025*\"dire\" + 0.021*\"ferré\" + 0.019*\"faire\" + 0.018*\"police\" + 0.015*\"procureur\" + 0.015*\"pouvoir\" + 0.013*\"général\" + 0.012*\"je\"\n",
      "Topic 3:\n",
      "0.042*\"faire\" + 0.013*\"arrestation\" + 0.012*\"pouvoir\" + 0.011*\"je\" + 0.010*\"ami\" + 0.010*\"vouloir\" + 0.010*\"trouver\" + 0.009*\"nom\" + 0.009*\"savoir\" + 0.009*\"commission\"\n",
      "jules favre\n"
     ]
    },
    {
     "name": "stderr",
     "output_type": "stream",
     "text": [
      "31it [00:01, 25.29it/s]\n"
     ]
    },
    {
     "name": "stdout",
     "output_type": "stream",
     "text": [
      "Topic 1:\n",
      "0.040*\"ministre\" + 0.039*\"simon\" + 0.038*\"picard\" + 0.034*\"m.\" + 0.025*\"trochu\" + 0.023*\"thier\" + 0.022*\"paris\" + 0.014*\"affaire\" + 0.014*\"maire\" + 0.013*\"étranger\"\n",
      "Topic 2:\n",
      "0.033*\"paris\" + 0.027*\"faire\" + 0.026*\"avocat\" + 0.024*\"an\" + 0.017*\"charmont\" + 0.016*\"jeanne\" + 0.015*\"assemblée\" + 0.015*\"vouloir\" + 0.015*\"maître\" + 0.015*\"civil\"\n",
      "Topic 3:\n",
      "0.037*\"thier\" + 0.025*\"pouvoir\" + 0.024*\"trochu\" + 0.024*\"homme\" + 0.019*\"paris\" + 0.015*\"savoir\" + 0.015*\"croire\" + 0.015*\"devoir\" + 0.015*\"gouvernement\" + 0.014*\"1\"\n",
      "félix pyat\n"
     ]
    },
    {
     "name": "stderr",
     "output_type": "stream",
     "text": [
      "31it [00:01, 29.39it/s]\n"
     ]
    },
    {
     "name": "stdout",
     "output_type": "stream",
     "text": [
      "Topic 1:\n",
      "0.049*\"citoyen\" + 0.038*\"journal\" + 0.038*\"commune\" + 0.036*\"faire\" + 0.031*\"pouvoir\" + 0.026*\"delescluze\" + 0.023*\"homme\" + 0.022*\"membre\" + 0.020*\"vengeur\" + 0.020*\"jamais\"\n",
      "Topic 2:\n",
      "0.071*\"delescluze\" + 0.069*\"commission\" + 0.046*\"tridon\" + 0.040*\"vermorel\" + 0.034*\"vaillant\" + 0.030*\"exécutif\" + 0.030*\"cournet\" + 0.027*\"comité\" + 0.027*\"membre\" + 0.025*\"eude\"\n",
      "Topic 3:\n",
      "0.066*\"citoyen\" + 0.047*\"commune\" + 0.032*\"paris\" + 0.027*\"léo\" + 0.024*\"ranvier\" + 0.023*\"meillet\" + 0.022*\"dire\" + 0.022*\"gambon\" + 0.022*\"rester\" + 0.021*\"vermorel\"\n",
      "théophile ferré\n"
     ]
    },
    {
     "name": "stderr",
     "output_type": "stream",
     "text": [
      "31it [00:01, 24.48it/s]\n"
     ]
    },
    {
     "name": "stdout",
     "output_type": "stream",
     "text": [
      "Topic 1:\n",
      "0.027*\"commune\" + 0.019*\"rigault\" + 0.016*\"ordre\" + 0.016*\"homme\" + 0.016*\"juge\" + 0.015*\"procès\" + 0.015*\"reconnaître\" + 0.015*\"membre\" + 0.015*\"comité\" + 0.014*\"public\"\n",
      "Topic 2:\n",
      "0.033*\"faire\" + 0.022*\"police\" + 0.020*\"ordre\" + 0.020*\"citoyen\" + 0.017*\"commune\" + 0.016*\"sûreté\" + 0.015*\"général\" + 0.015*\"délégué\" + 0.014*\"dire\" + 0.014*\"venir\"\n",
      "Topic 3:\n",
      "0.048*\"rigault\" + 0.020*\"dire\" + 0.019*\"mai\" + 0.019*\"pouvoir\" + 0.019*\"th\" + 0.015*\"24\" + 0.013*\"devenir\" + 0.012*\"mort\" + 0.012*\"prendre\" + 0.012*\"trinquet\"\n"
     ]
    }
   ],
   "source": [
    "for name, surname in zip(names,surnames):\n",
    "    print(surname + \" \" + name)\n",
    "    lda_full([name])"
   ]
  },
  {
   "cell_type": "code",
   "execution_count": 32,
   "id": "150b0e9e",
   "metadata": {},
   "outputs": [
    {
     "name": "stderr",
     "output_type": "stream",
     "text": [
      "31it [00:02, 14.92it/s]"
     ]
    },
    {
     "name": "stdout",
     "output_type": "stream",
     "text": [
      "11 18\n"
     ]
    },
    {
     "name": "stderr",
     "output_type": "stream",
     "text": [
      "\n"
     ]
    }
   ],
   "source": [
    "versaillais = extract_woi_context(data, ['ferré'], \"<sb>\")\n",
    "filtered_df = versaillais[versaillais['text'].str.contains('police')]\n",
    "pro_len = str(len(filtered_df[filtered_df.bias == 'pro']))\n",
    "anti_len = str(len(filtered_df[filtered_df.bias == 'anti']))\n",
    "print(pro_len + \" \" + anti_len)"
   ]
  },
  {
   "cell_type": "code",
   "execution_count": 19,
   "id": "35b922f8",
   "metadata": {},
   "outputs": [
    {
     "data": {
      "text/html": [
       "<div>\n",
       "<style scoped>\n",
       "    .dataframe tbody tr th:only-of-type {\n",
       "        vertical-align: middle;\n",
       "    }\n",
       "\n",
       "    .dataframe tbody tr th {\n",
       "        vertical-align: top;\n",
       "    }\n",
       "\n",
       "    .dataframe thead th {\n",
       "        text-align: right;\n",
       "    }\n",
       "</style>\n",
       "<table border=\"1\" class=\"dataframe\">\n",
       "  <thead>\n",
       "    <tr style=\"text-align: right;\">\n",
       "      <th></th>\n",
       "      <th>filename</th>\n",
       "      <th>memoir_len_sans_sb_pb</th>\n",
       "      <th>bias</th>\n",
       "      <th>woi</th>\n",
       "      <th>woi_location</th>\n",
       "      <th>extraction_method</th>\n",
       "      <th>text</th>\n",
       "    </tr>\n",
       "  </thead>\n",
       "  <tbody>\n",
       "    <tr>\n",
       "      <th>32</th>\n",
       "      <td>da_costa_1.txt</td>\n",
       "      <td>122048</td>\n",
       "      <td>pro</td>\n",
       "      <td>ferré</td>\n",
       "      <td>51</td>\n",
       "      <td>&lt;sb&gt;</td>\n",
       "      <td>&lt;pb&gt; puis, par arrêtés des 14 et 16 mai, théop...</td>\n",
       "    </tr>\n",
       "    <tr>\n",
       "      <th>191</th>\n",
       "      <td>da_costa_2.txt</td>\n",
       "      <td>62863</td>\n",
       "      <td>pro</td>\n",
       "      <td>ferré</td>\n",
       "      <td>304</td>\n",
       "      <td>&lt;sb&gt;</td>\n",
       "      <td>&lt;sb&gt; dégoûté, j'acceptai avec joie le poste pl...</td>\n",
       "    </tr>\n",
       "    <tr>\n",
       "      <th>230</th>\n",
       "      <td>elie.txt</td>\n",
       "      <td>146678</td>\n",
       "      <td>pro</td>\n",
       "      <td>ferré</td>\n",
       "      <td>180</td>\n",
       "      <td>&lt;sb&gt;</td>\n",
       "      <td>&lt;pb&gt; nous jouissons depuis ce matin d’un nouve...</td>\n",
       "    </tr>\n",
       "    <tr>\n",
       "      <th>250</th>\n",
       "      <td>lefrancais.txt</td>\n",
       "      <td>144197</td>\n",
       "      <td>pro</td>\n",
       "      <td>ferré</td>\n",
       "      <td>135</td>\n",
       "      <td>&lt;sb&gt;</td>\n",
       "      <td>&lt;pb&gt; ce qui le fut moins, ce fut le peu de sen...</td>\n",
       "    </tr>\n",
       "    <tr>\n",
       "      <th>267</th>\n",
       "      <td>verges_desboeufs.txt</td>\n",
       "      <td>18081</td>\n",
       "      <td>pro</td>\n",
       "      <td>ferré</td>\n",
       "      <td>89</td>\n",
       "      <td>&lt;sb&gt;</td>\n",
       "      <td>&lt;sb&gt; fut fusillé au père-lachaise, tandis qu'o...</td>\n",
       "    </tr>\n",
       "    <tr>\n",
       "      <th>270</th>\n",
       "      <td>arsac.txt</td>\n",
       "      <td>141550</td>\n",
       "      <td>anti</td>\n",
       "      <td>ferré</td>\n",
       "      <td>57</td>\n",
       "      <td>&lt;sb&gt;</td>\n",
       "      <td>&lt;pb&gt; « a la même heure, le délégué à la sûreté...</td>\n",
       "    </tr>\n",
       "    <tr>\n",
       "      <th>291</th>\n",
       "      <td>du_camp_1.txt</td>\n",
       "      <td>118984</td>\n",
       "      <td>anti</td>\n",
       "      <td>ferré</td>\n",
       "      <td>220</td>\n",
       "      <td>&lt;sb&gt;</td>\n",
       "      <td>&lt;sb&gt; le délégué civil à la guerre les écouta e...</td>\n",
       "    </tr>\n",
       "    <tr>\n",
       "      <th>297</th>\n",
       "      <td>du_camp_1.txt</td>\n",
       "      <td>118984</td>\n",
       "      <td>anti</td>\n",
       "      <td>ferré</td>\n",
       "      <td>5</td>\n",
       "      <td>&lt;sb&gt;</td>\n",
       "      <td>&lt;sb&gt; ferré depuis deux jours était délégué à l...</td>\n",
       "    </tr>\n",
       "    <tr>\n",
       "      <th>302</th>\n",
       "      <td>du_camp_1.txt</td>\n",
       "      <td>118984</td>\n",
       "      <td>anti</td>\n",
       "      <td>ferré</td>\n",
       "      <td>281</td>\n",
       "      <td>&lt;sb&gt;</td>\n",
       "      <td>&lt;sb&gt; on renvoyait les vieillards, à moins qu'i...</td>\n",
       "    </tr>\n",
       "    <tr>\n",
       "      <th>320</th>\n",
       "      <td>du_camp_2.txt</td>\n",
       "      <td>116707</td>\n",
       "      <td>anti</td>\n",
       "      <td>ferré</td>\n",
       "      <td>257</td>\n",
       "      <td>&lt;sb&gt;</td>\n",
       "      <td>&lt;pb&gt; rapproche de lui, sous le titre de substi...</td>\n",
       "    </tr>\n",
       "    <tr>\n",
       "      <th>344</th>\n",
       "      <td>du_camp_2.txt</td>\n",
       "      <td>116707</td>\n",
       "      <td>anti</td>\n",
       "      <td>ferré</td>\n",
       "      <td>128</td>\n",
       "      <td>&lt;sb&gt;</td>\n",
       "      <td>&lt;sb&gt; 129 prison, semblèrent se concerter entre...</td>\n",
       "    </tr>\n",
       "    <tr>\n",
       "      <th>393</th>\n",
       "      <td>du_camp_2.txt</td>\n",
       "      <td>116707</td>\n",
       "      <td>anti</td>\n",
       "      <td>ferré</td>\n",
       "      <td>133</td>\n",
       "      <td>&lt;sb&gt;</td>\n",
       "      <td>&lt;sb&gt; en causant avec eux, et sans paraître y a...</td>\n",
       "    </tr>\n",
       "    <tr>\n",
       "      <th>396</th>\n",
       "      <td>du_camp_2.txt</td>\n",
       "      <td>116707</td>\n",
       "      <td>anti</td>\n",
       "      <td>ferré</td>\n",
       "      <td>49</td>\n",
       "      <td>&lt;sb&gt;</td>\n",
       "      <td>&lt;sb&gt; les greffiers se récrièrent de plus belle...</td>\n",
       "    </tr>\n",
       "    <tr>\n",
       "      <th>397</th>\n",
       "      <td>du_camp_2.txt</td>\n",
       "      <td>116707</td>\n",
       "      <td>anti</td>\n",
       "      <td>ferré</td>\n",
       "      <td>328</td>\n",
       "      <td>&lt;sb&gt;</td>\n",
       "      <td>&lt;sb&gt; les greffiers se récrièrent de plus belle...</td>\n",
       "    </tr>\n",
       "    <tr>\n",
       "      <th>405</th>\n",
       "      <td>du_camp_2.txt</td>\n",
       "      <td>116707</td>\n",
       "      <td>anti</td>\n",
       "      <td>ferré</td>\n",
       "      <td>172</td>\n",
       "      <td>&lt;sb&gt;</td>\n",
       "      <td>&lt;sb&gt; les trois services importants, la guerre,...</td>\n",
       "    </tr>\n",
       "    <tr>\n",
       "      <th>406</th>\n",
       "      <td>du_camp_2.txt</td>\n",
       "      <td>116707</td>\n",
       "      <td>anti</td>\n",
       "      <td>ferré</td>\n",
       "      <td>38</td>\n",
       "      <td>&lt;sb&gt;</td>\n",
       "      <td>&lt;pb&gt; delescluze, délégué à la guerre, ferré, d...</td>\n",
       "    </tr>\n",
       "    <tr>\n",
       "      <th>408</th>\n",
       "      <td>du_camp_2.txt</td>\n",
       "      <td>116707</td>\n",
       "      <td>anti</td>\n",
       "      <td>ferré</td>\n",
       "      <td>66</td>\n",
       "      <td>&lt;sb&gt;</td>\n",
       "      <td>&lt;sb&gt; il avait été envoyé par le délégué à la s...</td>\n",
       "    </tr>\n",
       "    <tr>\n",
       "      <th>410</th>\n",
       "      <td>du_camp_2.txt</td>\n",
       "      <td>116707</td>\n",
       "      <td>anti</td>\n",
       "      <td>ferré</td>\n",
       "      <td>287</td>\n",
       "      <td>&lt;sb&gt;</td>\n",
       "      <td>&lt;pb&gt; dans cette exécution sans prétexte comme ...</td>\n",
       "    </tr>\n",
       "    <tr>\n",
       "      <th>416</th>\n",
       "      <td>du_camp_2.txt</td>\n",
       "      <td>116707</td>\n",
       "      <td>anti</td>\n",
       "      <td>ferré</td>\n",
       "      <td>9</td>\n",
       "      <td>&lt;sb&gt;</td>\n",
       "      <td>&lt;pb&gt; th. ferré ne se battait pas, car cela ne ...</td>\n",
       "    </tr>\n",
       "    <tr>\n",
       "      <th>438</th>\n",
       "      <td>enault.txt</td>\n",
       "      <td>70051</td>\n",
       "      <td>anti</td>\n",
       "      <td>ferré</td>\n",
       "      <td>106</td>\n",
       "      <td>&lt;sb&gt;</td>\n",
       "      <td>&lt;pb&gt; le soir du même jour, mercredi 24 mai, à ...</td>\n",
       "    </tr>\n",
       "    <tr>\n",
       "      <th>448</th>\n",
       "      <td>fayard.txt</td>\n",
       "      <td>193091</td>\n",
       "      <td>anti</td>\n",
       "      <td>ferré</td>\n",
       "      <td>257</td>\n",
       "      <td>&lt;sb&gt;</td>\n",
       "      <td>&lt;pb&gt; « l'an mil huit cent soixante et onze, le...</td>\n",
       "    </tr>\n",
       "    <tr>\n",
       "      <th>450</th>\n",
       "      <td>fayard.txt</td>\n",
       "      <td>193091</td>\n",
       "      <td>anti</td>\n",
       "      <td>ferré</td>\n",
       "      <td>95</td>\n",
       "      <td>&lt;sb&gt;</td>\n",
       "      <td>&lt;pb&gt; ensuite, l'assemblée se forme en comité s...</td>\n",
       "    </tr>\n",
       "    <tr>\n",
       "      <th>451</th>\n",
       "      <td>fayard.txt</td>\n",
       "      <td>193091</td>\n",
       "      <td>anti</td>\n",
       "      <td>ferré</td>\n",
       "      <td>197</td>\n",
       "      <td>&lt;sb&gt;</td>\n",
       "      <td>&lt;pb&gt; quelques renseignements imprudemment dema...</td>\n",
       "    </tr>\n",
       "    <tr>\n",
       "      <th>458</th>\n",
       "      <td>fayard.txt</td>\n",
       "      <td>193091</td>\n",
       "      <td>anti</td>\n",
       "      <td>ferré</td>\n",
       "      <td>82</td>\n",
       "      <td>&lt;sb&gt;</td>\n",
       "      <td>&lt;pb&gt; les brebis étaient en sûreté, sous les ho...</td>\n",
       "    </tr>\n",
       "    <tr>\n",
       "      <th>489</th>\n",
       "      <td>fayard.txt</td>\n",
       "      <td>193091</td>\n",
       "      <td>anti</td>\n",
       "      <td>ferré</td>\n",
       "      <td>57</td>\n",
       "      <td>&lt;sb&gt;</td>\n",
       "      <td>&lt;pb&gt; » a la même heure, le délégué à la sûreté...</td>\n",
       "    </tr>\n",
       "    <tr>\n",
       "      <th>496</th>\n",
       "      <td>fayard.txt</td>\n",
       "      <td>193091</td>\n",
       "      <td>anti</td>\n",
       "      <td>ferré</td>\n",
       "      <td>225</td>\n",
       "      <td>&lt;sb&gt;</td>\n",
       "      <td>&lt;pb&gt; et nom de dieu ! il n'a pas tort ! commen...</td>\n",
       "    </tr>\n",
       "    <tr>\n",
       "      <th>526</th>\n",
       "      <td>morel.txt</td>\n",
       "      <td>43102</td>\n",
       "      <td>anti</td>\n",
       "      <td>ferré</td>\n",
       "      <td>37</td>\n",
       "      <td>&lt;sb&gt;</td>\n",
       "      <td>&lt;pb&gt; — 258 — ferre théophile-charles ferré, ap...</td>\n",
       "    </tr>\n",
       "    <tr>\n",
       "      <th>527</th>\n",
       "      <td>morel.txt</td>\n",
       "      <td>43102</td>\n",
       "      <td>anti</td>\n",
       "      <td>ferré</td>\n",
       "      <td>65</td>\n",
       "      <td>&lt;sb&gt;</td>\n",
       "      <td>&lt;pb&gt; c'est ainsi que délégué à la commission d...</td>\n",
       "    </tr>\n",
       "  </tbody>\n",
       "</table>\n",
       "</div>"
      ],
      "text/plain": [
       "                 filename  memoir_len_sans_sb_pb  bias    woi  woi_location   \n",
       "32         da_costa_1.txt                 122048   pro  ferré            51  \\\n",
       "191        da_costa_2.txt                  62863   pro  ferré           304   \n",
       "230              elie.txt                 146678   pro  ferré           180   \n",
       "250        lefrancais.txt                 144197   pro  ferré           135   \n",
       "267  verges_desboeufs.txt                  18081   pro  ferré            89   \n",
       "270             arsac.txt                 141550  anti  ferré            57   \n",
       "291         du_camp_1.txt                 118984  anti  ferré           220   \n",
       "297         du_camp_1.txt                 118984  anti  ferré             5   \n",
       "302         du_camp_1.txt                 118984  anti  ferré           281   \n",
       "320         du_camp_2.txt                 116707  anti  ferré           257   \n",
       "344         du_camp_2.txt                 116707  anti  ferré           128   \n",
       "393         du_camp_2.txt                 116707  anti  ferré           133   \n",
       "396         du_camp_2.txt                 116707  anti  ferré            49   \n",
       "397         du_camp_2.txt                 116707  anti  ferré           328   \n",
       "405         du_camp_2.txt                 116707  anti  ferré           172   \n",
       "406         du_camp_2.txt                 116707  anti  ferré            38   \n",
       "408         du_camp_2.txt                 116707  anti  ferré            66   \n",
       "410         du_camp_2.txt                 116707  anti  ferré           287   \n",
       "416         du_camp_2.txt                 116707  anti  ferré             9   \n",
       "438            enault.txt                  70051  anti  ferré           106   \n",
       "448            fayard.txt                 193091  anti  ferré           257   \n",
       "450            fayard.txt                 193091  anti  ferré            95   \n",
       "451            fayard.txt                 193091  anti  ferré           197   \n",
       "458            fayard.txt                 193091  anti  ferré            82   \n",
       "489            fayard.txt                 193091  anti  ferré            57   \n",
       "496            fayard.txt                 193091  anti  ferré           225   \n",
       "526             morel.txt                  43102  anti  ferré            37   \n",
       "527             morel.txt                  43102  anti  ferré            65   \n",
       "\n",
       "    extraction_method                                               text  \n",
       "32               <sb>  <pb> puis, par arrêtés des 14 et 16 mai, théop...  \n",
       "191              <sb>  <sb> dégoûté, j'acceptai avec joie le poste pl...  \n",
       "230              <sb>  <pb> nous jouissons depuis ce matin d’un nouve...  \n",
       "250              <sb>  <pb> ce qui le fut moins, ce fut le peu de sen...  \n",
       "267              <sb>  <sb> fut fusillé au père-lachaise, tandis qu'o...  \n",
       "270              <sb>  <pb> « a la même heure, le délégué à la sûreté...  \n",
       "291              <sb>  <sb> le délégué civil à la guerre les écouta e...  \n",
       "297              <sb>  <sb> ferré depuis deux jours était délégué à l...  \n",
       "302              <sb>  <sb> on renvoyait les vieillards, à moins qu'i...  \n",
       "320              <sb>  <pb> rapproche de lui, sous le titre de substi...  \n",
       "344              <sb>  <sb> 129 prison, semblèrent se concerter entre...  \n",
       "393              <sb>  <sb> en causant avec eux, et sans paraître y a...  \n",
       "396              <sb>  <sb> les greffiers se récrièrent de plus belle...  \n",
       "397              <sb>  <sb> les greffiers se récrièrent de plus belle...  \n",
       "405              <sb>  <sb> les trois services importants, la guerre,...  \n",
       "406              <sb>  <pb> delescluze, délégué à la guerre, ferré, d...  \n",
       "408              <sb>  <sb> il avait été envoyé par le délégué à la s...  \n",
       "410              <sb>  <pb> dans cette exécution sans prétexte comme ...  \n",
       "416              <sb>  <pb> th. ferré ne se battait pas, car cela ne ...  \n",
       "438              <sb>  <pb> le soir du même jour, mercredi 24 mai, à ...  \n",
       "448              <sb>  <pb> « l'an mil huit cent soixante et onze, le...  \n",
       "450              <sb>  <pb> ensuite, l'assemblée se forme en comité s...  \n",
       "451              <sb>  <pb> quelques renseignements imprudemment dema...  \n",
       "458              <sb>  <pb> les brebis étaient en sûreté, sous les ho...  \n",
       "489              <sb>  <pb> » a la même heure, le délégué à la sûreté...  \n",
       "496              <sb>  <pb> et nom de dieu ! il n'a pas tort ! commen...  \n",
       "526              <sb>  <pb> — 258 — ferre théophile-charles ferré, ap...  \n",
       "527              <sb>  <pb> c'est ainsi que délégué à la commission d...  "
      ]
     },
     "execution_count": 19,
     "metadata": {},
     "output_type": "execute_result"
    }
   ],
   "source": [
    "filtered_df"
   ]
  },
  {
   "cell_type": "code",
   "execution_count": 20,
   "id": "1569977d",
   "metadata": {},
   "outputs": [
    {
     "data": {
      "text/plain": [
       "['<pb> puis, par arrêtés des 14 et 16 mai, théophile ferré était nommé détégué à la sûreté générale en remplacement de cournet et un autre blanquiste, alfred breuillé, le remplaçait comme substitut au parquet de la commune. ',\n",
       " \"<sb> dégoûté, j'acceptai avec joie le poste plus précis et moins complexe de substitut, chargé spécialement de requérir contre les anciens mouchards mais, afin de suivre les -asaires en cours, je conservai cependant ma fonction de secrétaire du cabinet du comité de sûreté générale, sous cournet et sous ferré. \",\n",
       " \"<pb> nous jouissons depuis ce matin d’un nouveau préfet de police, au moins en apparence, car tout porte à croire que l'illustre raoul rigault,qui est maintenant avec son collègue ferré dans le comité de sûreté générale.continuera d’être le réel chef de la police, à côté et sous le nom du citoyen cournet, un bon et jovial garçon du æéveil qui, poursuivi plusieurs fois pour délit de presse, ne semblait pas devoir être jamais appelé à la triste fonction de mettre lui-même les gens en prison. \",\n",
       " \"<pb> ce qui le fut moins, ce fut le peu de sens pratique qu'apporta la commission de sûreté générale, à la tête de laquelle le citoyen ferré venait d'être mis, en rem- placement du citoyen cournet, dans la recherche des conspirateurs royalistes, dont les agissements avaient été signalés depuis longtemps déjà à cette commission. \",\n",
       " \"<sb> fut fusillé au père-lachaise, tandis qu'on le sait à présent en sûreté; que regère, ferré et cluseret furent exécutés, tandis que les deux premiers arrêtés récemment ont été conduits à versailles, et le dernier s'est embarqué pour l'amérique. \",\n",
       " \"<pb> « a la même heure, le délégué à la sûreté générale, ferré, membre de la commune, vint s'installer au greffe et fit venir les condamnés du pénitencier et les hommes qui étaient détenus dans la prison en attendant leur transfert au bagne. <sb>\",\n",
       " \"<sb> le délégué civil à la guerre les écouta et, comprenant qu'il y avait là quelque monstrueuse iniquité, leur remit la lettre suivante, écrite tout entière de sa main, pour le délégué à la sûreté générale : « mon cher ferré, veuillez faire mettre en liberté le citoyen koch, pharmacien, qui va ouvrir une ambulance. <sb>\",\n",
       " \"<sb> ferré depuis deux jours était délégué à la sûreté générale, autrement dit préfet de police, et il venait s'assurer que tout se passerait avec ordre et décence. <sb>\",\n",
       " \"<sb> on renvoyait les vieillards, à moins qu'ils ne fussent soupçonnés de connivence avec versailles, ce qui arrivait souvent; les jeunes gens, les hommes âgés de moins de quarante ans, étaient gardés « à la disposition de la sûreté générale », c'est-à-dire de raoul rigault ou de ferré. <sb>\",\n",
       " \"<pb> rapproche de lui, sous le titre de substitut du procureur de la commune; enfin, lorsque le fort d'issy est occupé par nos troupes, que l'on se prépare à une résistance qui ne fera qu'augmenter la défaite, que l'on médite des cruautés sans exemple, th. ferré est délégué à la sûreté générale, autrement dit, il est élevé à la fonction d'exécuteur des hautes oeuvres de la commune.— on sait s'il fut fidèle à son mandat. <sb>\",\n",
       " '<sb> 129 prison, semblèrent se concerter entre eux, firent partir un des leurs dans la direction de la préfecture de police, où ferré se tenait en permanence en qualité de délégué à la sûreté générale, et attendirent dans la cour. <sb>',\n",
       " \"<sb> en causant avec eux, et sans paraître y attacher d'importance, on leur disait que les prisons étaient directement du ressort de ferré, délégué à la sûreté générale, qui ne plaisantait pas, ne supportait pas que l'on empiétât sur son pouvoir et ferait peut-être payer cher, non pas à sérizier, mais aux subordonnés de celui-ci, la fantaisie singulière qu'ils avaient eue de se substituer à son autorité. <sb>\",\n",
       " \"<sb> les greffiers se récrièrent de plus belle : ferré, délégué à la sûreté générale, empiétait sur les attributions de delescluze, délégué à la guerre ; il ne pouvait sous aucun prétexte changer la destination de la maison ; celle-ci était prison et non point poudrière ; le devoir de caullet était de désobéir à un ordre dont ferré n'avait certainement pas compris la portée. <sb>\",\n",
       " \"<sb> les greffiers se récrièrent de plus belle : ferré, délégué à la sûreté générale, empiétait sur les attributions de delescluze, délégué à la guerre ; il ne pouvait sous aucun prétexte changer la destination de la maison ; celle-ci était prison et non point poudrière ; le devoir de caullet était de désobéir à un ordre dont ferré n'avait certainement pas compris la portée. <sb>\",\n",
       " \"<sb> les trois services importants, la guerre, la sûreté générale, les finances, s'étaient donc installés dans les salles de la mairie du xie arrondissement ; c'est là que ferré était accouru, après avoir fait fusiller georges veysset et n'avoir pas réussi à faire tuer d'autres détenus du dépôt. <sb>\",\n",
       " \"<pb> delescluze, délégué à la guerre, ferré, délégué à la sûreté générale, s'étaient donc établis à la mairie du xie arrondissement. <sb>\",\n",
       " \"<sb> il avait été envoyé par le délégué à la sûreté générale, par ferré, pour surveiller l'exécution et en rendre compte. \",\n",
       " \"<pb> dans cette exécution sans prétexte comme sans excuse, et qui n'est qu'un multiple assassinat, genton, président de la cour martiale, représentait la justice comme la commune la comprenait ; benjamin sicard représentait la sûreté générale, c'est-à-dire la police telle que théophile ferré la pratiquait ; vérig représentait l'armée de la guerre civile ; mégy, acteur volontaire dans cette oeuvre sans nom, représentait la haine sociale dans le but qu'elle poursuit. \",\n",
       " \"<pb> th. ferré ne se battait pas, car cela ne paraît pas avoir été trop dans ses habitudes ; plus délégué que jamais à la sûreté générale, cet avorton au bec crochu se sentait charge d'âmes et pensait aux otages qui étaient fort nombreux encore, caria petite-roquette seule contenait mille trois cent trente-trois soldats, amenés de différentes casernes, ainsi que nous l'avons déjà dit. <sb>\",\n",
       " \"<pb> le soir du même jour, mercredi 24 mai, à huit heures moins un quart, le délégué à la sûreté générale ferré se présente dans la 4e division de la prison, suivi de deux brigadiers et du directeur; des gardes nationaux étaient échelonnés dans l'escalier de ronde. \",\n",
       " '<pb> « l\\'an mil huit cent soixante et onze, le cinq mai, » devant nous, délégué à la sûreté générale et membre dudit comité, est com- 100 histoire de la commune paru le membre de la commune connu sous le nom de blanchet, » lequel, interpellé par le citoyen ferré, a déclaré qu\\'il ne s\\'appelait pas blanchet, mais bien panifie (stanislas.) \" sur seconde interpellation, panille déclare qu\\'il a bien été secrétaire de commission de police à lyon, qu\\'il est entré, à brest, dans un couvent de capucins en qualité de novice vers 1860, qu\\'il y est resté huit ou neuf mois. ',\n",
       " \"<pb> ensuite, l'assemblée se forme en comité secret pour entendre une communication du citoyen ferré, délégué à la sûreté générale. \",\n",
       " \"<pb> quelques renseignements imprudemment demandés par lui et relatifs à des demandes d'emploi dans la police impériale, dont on classait les originaux, don* nèrent l'éveil aux soupçons du citoyen ferré, délégué à la sûreté générale, le dossier de clément fut bientôt trouvé et le délégué eut sous les yeux les preuves écrites que son collègue était un ancien agent de piétri. \",\n",
       " '<pb> les brebis étaient en sûreté, sous les houlettes pastorales de rigault et de ferré. ',\n",
       " \"<pb> » a la même heure, le délégué à la sûreté générale, ferré, membre de la commune, vint s'installer au greffe et fit venir les condamnés du pénitencier et les hommes qui étaient détenus dans la prison en attendant leur transfert au bagne. <sb>\",\n",
       " \"<pb> et nom de dieu ! il n'a pas tort ! comment, foutre ! on conspire dans paris, et le comité de salut public se remue comme un diable dans un bénitier, parce qu'il sent qu'il faut avoir l'oeil, et'ce nom de dieu de citoyen ferré, délégué à la sûreté, et le citoyen rigault procureur de la commune ne foutent rien, 278 histoire de la commune et boivent chopine sans doute, . \",\n",
       " \"<pb> — 258 — ferre théophile-charles ferré, après avoir, comme son ami raoul rigault, habité longtemps les cellules de mazas et de sainte-pélagie pour écrits politiques, propos séditieux, complots contre la sûreté de l'etat, etc., etc., éprouva au 18 mars le besoin de se venger un peu des condamnations prononcées contre lui. \",\n",
       " \"<pb> c'est ainsi que délégué à la commission de sûreté générale, ferré, signa d'une main légère la suppression de presque tous les journaux, de paris, puis l'arrêt de mort d'un trop grand nombre de malheureuses victimes retenues emprisonnés par ses ordres, avec l'approbation de sou chef, raoul rigault. \"]"
      ]
     },
     "execution_count": 20,
     "metadata": {},
     "output_type": "execute_result"
    }
   ],
   "source": [
    "list(filtered_df.text.values)"
   ]
  },
  {
   "cell_type": "code",
   "execution_count": 21,
   "id": "0cbcad33",
   "metadata": {},
   "outputs": [
    {
     "name": "stderr",
     "output_type": "stream",
     "text": [
      "31it [00:01, 25.27it/s]\n"
     ]
    },
    {
     "name": "stdout",
     "output_type": "stream",
     "text": [
      "Topic 1:\n",
      "0.063*\"commune\" + 0.021*\"membre\" + 0.021*\"faire\" + 0.018*\"nommer\" + 0.018*\"je\" + 0.017*\"paris\" + 0.015*\"citoyen\" + 0.013*\"pouvoir\" + 0.012*\"mai\" + 0.011*\"dire\"\n",
      "Topic 2:\n",
      "0.039*\"commune\" + 0.027*\"voter\" + 0.024*\"vote\" + 0.019*\"membre\" + 0.018*\"institution\" + 0.018*\"pouvoir\" + 0.017*\"arrêter\" + 0.016*\"considérer\" + 0.016*\"guerre\" + 0.016*\"minorité\"\n",
      "Topic 3:\n",
      "0.031*\"paris\" + 0.031*\"membre\" + 0.029*\"faire\" + 0.026*\"commune\" + 0.024*\"ordre\" + 0.024*\"jour\" + 0.018*\"pouvoir\" + 0.014*\"police\" + 0.014*\"thier\" + 0.014*\"gouvernement\"\n"
     ]
    }
   ],
   "source": [
    "lda_full(['comité de salut public'])"
   ]
  },
  {
   "cell_type": "code",
   "execution_count": null,
   "id": "097684c2",
   "metadata": {},
   "outputs": [],
   "source": []
  }
 ],
 "metadata": {
  "kernelspec": {
   "display_name": "Python 3 (ipykernel)",
   "language": "python",
   "name": "python3"
  },
  "language_info": {
   "codemirror_mode": {
    "name": "ipython",
    "version": 3
   },
   "file_extension": ".py",
   "mimetype": "text/x-python",
   "name": "python",
   "nbconvert_exporter": "python",
   "pygments_lexer": "ipython3",
   "version": "3.9.13"
  }
 },
 "nbformat": 4,
 "nbformat_minor": 5
}
