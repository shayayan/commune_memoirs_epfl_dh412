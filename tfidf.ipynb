{
 "cells": [
  {
   "cell_type": "code",
   "execution_count": 1,
   "id": "9da40cf0",
   "metadata": {},
   "outputs": [],
   "source": [
    "from tqdm import tqdm\n",
    "import pickle\n",
    "import pandas as pd\n",
    "import re\n",
    "import nltk\n",
    "from nltk.corpus import stopwords\n",
    "import json\n",
    "from sklearn.feature_extraction.text import TfidfVectorizer"
   ]
  },
  {
   "cell_type": "code",
   "execution_count": 2,
   "id": "77363fe8",
   "metadata": {},
   "outputs": [],
   "source": [
    "import spacy\n",
    "nlp = spacy.load('fr_core_news_md')"
   ]
  },
  {
   "cell_type": "code",
   "execution_count": 156,
   "id": "e2679ca7",
   "metadata": {},
   "outputs": [],
   "source": [
    "import stanza"
   ]
  },
  {
   "cell_type": "code",
   "execution_count": 3,
   "id": "19a4f80c",
   "metadata": {},
   "outputs": [
    {
     "name": "stderr",
     "output_type": "stream",
     "text": [
      "[nltk_data] Downloading package stopwords to\n",
      "[nltk_data]     C:\\Users\\shaya\\AppData\\Roaming\\nltk_data...\n",
      "[nltk_data]   Package stopwords is already up-to-date!\n"
     ]
    }
   ],
   "source": [
    "nltk.download('stopwords')\n",
    "stop_words = set(stopwords.words('french'))\n",
    "stop_words.add(\"n'\")\n",
    "stop_words.add(\"l'\")\n",
    "stop_words.add(\"d'\")\n",
    "stop_words.add(\"c'\")\n",
    "stop_words.add(\"qu'\")\n",
    "stop_words.add(\"quelqu'\")\n",
    "stop_words.add(\"quelqu\")\n",
    "stop_words.add(\"s'\")\n",
    "stop_words.add(\"n’\")\n",
    "stop_words.add(\"l’\")\n",
    "stop_words.add(\"d’\")\n",
    "stop_words.add(\"c’\")\n",
    "stop_words.add(\"qu’\")\n",
    "stop_words.add(\"quelqu’\")\n",
    "stop_words.add(\"s’\")"
   ]
  },
  {
   "cell_type": "code",
   "execution_count": 4,
   "id": "2e0bc314",
   "metadata": {},
   "outputs": [],
   "source": [
    "json_file_path = 'stop_words_french.json'\n",
    "\n",
    "# Open the JSON file\n",
    "with open(json_file_path, encoding='utf-8') as json_file:\n",
    "    # Load the JSON data\n",
    "    stopwords = json.load(json_file)"
   ]
  },
  {
   "cell_type": "code",
   "execution_count": 5,
   "id": "e660f85e",
   "metadata": {},
   "outputs": [],
   "source": [
    "stopwords = set(stopwords).union(stop_words)"
   ]
  },
  {
   "cell_type": "code",
   "execution_count": 6,
   "id": "97f779a9",
   "metadata": {},
   "outputs": [],
   "source": [
    "with open('memoirs_preprocessed.pkl', 'rb') as f:\n",
    "    data = pickle.load(f)"
   ]
  },
  {
   "cell_type": "code",
   "execution_count": 7,
   "id": "f307a88b",
   "metadata": {},
   "outputs": [],
   "source": [
    "def extract_woi_context(commune_memoirs, wois, method, count = 0):\n",
    "\n",
    "    woi_context_extraction = pd.DataFrame(columns=['filename', 'memoir_len_sans_sb_pb', 'bias', 'woi', 'woi_location', 'extraction_method', 'text'])\n",
    "\n",
    "    for i, row in tqdm(commune_memoirs.iterrows()):\n",
    "\n",
    "        filename = row[0]\n",
    "\n",
    "        # commented out because this will corrupt lengths by token count\n",
    "        #if filename == \"du_camp_1.txt\" or filename == \"du_camp_2.txt\":\n",
    "        #    filename = \"du_camp.txt\"\n",
    "        #if filename == \"arnould_1.txt\" or filename == \"arnould_2.txt\" or filename == \"arnould_3.txt\":\n",
    "        #    filename = \"arnould.txt\"\n",
    "        #if filename == \"cluseret_1.txt\" or filename == \"cluseret_2.txt\" or filename == \"cluseret_3.txt\":\n",
    "        #    filename = \"cluseret.txt\"\n",
    "        #if filename == \"da_costa_1.txt\" or filename == \"da_costa_2.txt\" or filename == \"da_costa_3.txt\":\n",
    "        #    filename = \"da_costa.txt\"\n",
    "\n",
    "        bias = row[1]\n",
    "        text = row[2]\n",
    "        \n",
    "        memoir_len_sans_sb_pb = len([token for token in text.split() if token not in [\"<sb>\",\"<pb>\"]])\n",
    "\n",
    "        text_lower = text.lower()\n",
    "        for woi in wois:\n",
    "            if woi.lower() in text_lower:\n",
    "                indices_object = re.finditer(pattern=r'\\b{}\\b'.format(re.escape(woi.lower())), string=text_lower)\n",
    "                indices = [index.start() for index in indices_object]\n",
    "                for location in indices:\n",
    "                    if method == \"token\" or method == \"character\":\n",
    "                        method_s = str(method) + \", \" + str(count) + \" either side\"\n",
    "                        window_half = count\n",
    "                        if method == \"token\":\n",
    "                            pre_tokens = ' '.join(text_lower[:location].split()[-window_half:])\n",
    "                            post_tokens = ' '.join(text_lower[location:].split()[:window_half+len(woi.split())])\n",
    "                            tmp_sequence = pre_tokens + \" \" + post_tokens\n",
    "                            woi_location = len(pre_tokens) + 1\n",
    "                        if method == \"character\":\n",
    "                            pre_string = text_lower[:location][-window_half:]\n",
    "                            post_string = text_lower[location:][:window_half+len(woi)]\n",
    "                            tmp_sequence = pre_string + post_string\n",
    "                            woi_location = 0\n",
    "                            woi_location = len(pre_string)\n",
    "                    elif method == \"<sb>\" or method == \"<pb>\":\n",
    "                        method_s = method\n",
    "                        pre_string = text_lower[text_lower[:location].rfind(method):location]\n",
    "                        if \"<pb>\" in pre_string and method == \"<sb>\":\n",
    "                            pre_string = pre_string[pre_string.rfind(\"<pb>\"):]\n",
    "                        post_string_tmp = text_lower[location:]\n",
    "                        post_string = post_string_tmp[:post_string_tmp.find(method) + 4]\n",
    "                        if \"<pb>\" in post_string and method == \"<sb>\":\n",
    "                            post_string = post_string[:post_string.find(\"<pb>\")]\n",
    "                        tmp_sequence = pre_string + post_string\n",
    "                        woi_location = 0\n",
    "                        woi_location = len(pre_string)\n",
    "                    woi_context_extraction.loc[len(woi_context_extraction)] = [filename, memoir_len_sans_sb_pb, bias, woi, woi_location, method_s, tmp_sequence]\n",
    "    \n",
    "    return woi_context_extraction"
   ]
  },
  {
   "cell_type": "code",
   "execution_count": 8,
   "id": "9da5b6fd",
   "metadata": {},
   "outputs": [],
   "source": [
    "def tfidf_words(words, num_words = 10, max_freq = 0.8):\n",
    "    \n",
    "    df = extract_woi_context(data, words, \"<sb>\")\n",
    "    df = df.drop_duplicates(subset='text', keep='first')\n",
    "    df.text = df.text.str.replace('<pb>', '')\n",
    "    df.text = df.text.str.replace('<sb>', '')\n",
    "    df.text = df.text.apply(lambda t : nlp(t))\n",
    "    df.text = df.text.apply(lambda i :[token.text for token in i if token.text not in stopwords])\n",
    "    \n",
    "    anti = df[df.bias == 'anti']\n",
    "    pro = df[df.bias == 'pro']\n",
    "    \n",
    "    pro_text = ' '.join([word for sublist in list(pro.text.values) for word in sublist])\n",
    "    anti_text = ' '.join([word for sublist in list(anti.text.values) for word in sublist])\n",
    "    \n",
    "    documents = [pro_text, anti_text]\n",
    "    doc_type = ['pro', 'anti']\n",
    "    \n",
    "    # Create an instance of TfidfVectorizer\n",
    "    vectorizer = TfidfVectorizer(stop_words = stopwords, max_df = max_freq)\n",
    "\n",
    "    # Fit the vectorizer to the documents and calculate the TF-IDF values\n",
    "    tfidf_matrix = vectorizer.fit_transform(documents)\n",
    "\n",
    "    # Get the feature names (words)\n",
    "    feature_names = vectorizer.get_feature_names_out()\n",
    "\n",
    "    # Iterate over each document's TF-IDF values\n",
    "    for doc_index, doc in enumerate(documents):\n",
    "        # Get the sparse vector representation of the document\n",
    "        sparse_vector = tfidf_matrix[doc_index]\n",
    "        # Convert the sparse vector to a dense array\n",
    "        dense_vector = sparse_vector.toarray()[0]\n",
    "        # Create a list of (word, TF-IDF) tuples\n",
    "        word_tfidf_list = [(feature_names[i], dense_vector[i]) for i in range(len(feature_names))]\n",
    "        # Sort the list by TF-IDF values in descending order\n",
    "        word_tfidf_list.sort(key=lambda x: x[1], reverse=True)\n",
    "        # Print the top 10 words with the highest TF-IDF values for the document\n",
    "        print(f\"{doc_type[doc_index]}:\")\n",
    "        for word, tfidf in word_tfidf_list[:num_words]:\n",
    "            print(f\"{word}: {tfidf}\")\n",
    "        print()"
   ]
  },
  {
   "cell_type": "code",
   "execution_count": 9,
   "id": "15f5bdd8",
   "metadata": {},
   "outputs": [],
   "source": [
    "with open('names.pkl', 'rb') as pickle_file:\n",
    "    names = pickle.load(pickle_file)"
   ]
  },
  {
   "cell_type": "code",
   "execution_count": 10,
   "id": "e35b9416",
   "metadata": {},
   "outputs": [
    {
     "data": {
      "text/plain": [
       "['Raoul Rigault', 'Jules Favre', 'Garde Nationale', 'Félix Pyat', 'La Commune']"
      ]
     },
     "execution_count": 10,
     "metadata": {},
     "output_type": "execute_result"
    }
   ],
   "source": [
    "names"
   ]
  },
  {
   "cell_type": "code",
   "execution_count": 11,
   "id": "758ff4d4",
   "metadata": {},
   "outputs": [],
   "source": [
    "names = ['rigault', 'favre', 'pyat', 'ferré', 'commune', 'garde nationale']"
   ]
  },
  {
   "cell_type": "code",
   "execution_count": 12,
   "id": "318f6731",
   "metadata": {
    "scrolled": false
   },
   "outputs": [
    {
     "name": "stdout",
     "output_type": "stream",
     "text": [
      "rigault\n"
     ]
    },
    {
     "name": "stderr",
     "output_type": "stream",
     "text": [
      "31it [00:02, 14.56it/s]\n"
     ]
    },
    {
     "name": "stdout",
     "output_type": "stream",
     "text": [
      "pro:\n",
      "costa: 0.3048867566557235\n",
      "révolutionnaire: 0.179345150973955\n",
      "blanquistes: 0.107607090584373\n",
      "chardon: 0.107607090584373\n",
      "clermont: 0.107607090584373\n",
      "jeune: 0.107607090584373\n",
      "régnard: 0.107607090584373\n",
      "tolérance: 0.107607090584373\n",
      "blanquiste: 0.0896725754869775\n",
      "bureaux: 0.0896725754869775\n",
      "\n",
      "anti:\n",
      "dacosta: 0.25801314467114733\n",
      "aller: 0.12900657233557367\n",
      "civil: 0.12900657233557367\n",
      "obtenir: 0.11467250874273216\n",
      "digne: 0.10033844514989064\n",
      "présence: 0.10033844514989064\n",
      "maître: 0.0860043815570491\n",
      "mise: 0.0860043815570491\n",
      "souvent: 0.0860043815570491\n",
      "vit: 0.0860043815570491\n",
      "\n",
      "favre\n"
     ]
    },
    {
     "name": "stderr",
     "output_type": "stream",
     "text": [
      "31it [00:01, 25.73it/s]\n"
     ]
    },
    {
     "name": "stdout",
     "output_type": "stream",
     "text": [
      "pro:\n",
      "ans: 0.19133442763511838\n",
      "faire: 0.1711939615682638\n",
      "maître: 0.16112372853483653\n",
      "assemblée: 0.15105349550140926\n",
      "république: 0.15105349550140926\n",
      "charmont: 0.13091302943455466\n",
      "faussaire: 0.13091302943455466\n",
      "jeanne: 0.13091302943455466\n",
      "monsieur: 0.11077256336770011\n",
      "vernier: 0.11077256336770011\n",
      "\n",
      "anti:\n",
      "prêtres: 0.2809179948882496\n",
      "montmartre: 0.21068849616618718\n",
      "cacheux: 0.175573746805156\n",
      "préfecture: 0.175573746805156\n",
      "assassiné: 0.1404589974441248\n",
      "bandits: 0.1404589974441248\n",
      "carrières: 0.1404589974441248\n",
      "courbant: 0.1404589974441248\n",
      "fermée: 0.1404589974441248\n",
      "ignorantins: 0.1404589974441248\n",
      "\n",
      "pyat\n"
     ]
    },
    {
     "name": "stderr",
     "output_type": "stream",
     "text": [
      "31it [00:01, 28.16it/s]\n"
     ]
    },
    {
     "name": "stdout",
     "output_type": "stream",
     "text": [
      "pro:\n",
      "avril: 0.10652472825826079\n",
      "blanc: 0.10652472825826079\n",
      "fé: 0.10652472825826079\n",
      "andrieu: 0.07989354619369558\n",
      "attitude: 0.07989354619369558\n",
      "capitulation: 0.07989354619369558\n",
      "com: 0.07989354619369558\n",
      "décret: 0.07989354619369558\n",
      "défense: 0.07989354619369558\n",
      "grands: 0.07989354619369558\n",
      "\n",
      "anti:\n",
      "défie: 0.14091341769030521\n",
      "général: 0.14091341769030521\n",
      "mars: 0.11742784807525436\n",
      "11: 0.09394227846020349\n",
      "18: 0.09394227846020349\n",
      "antoine: 0.09394227846020349\n",
      "colonne: 0.09394227846020349\n",
      "politiques: 0.09394227846020349\n",
      "10e: 0.07045670884515261\n",
      "24: 0.07045670884515261\n",
      "\n",
      "ferré\n"
     ]
    },
    {
     "name": "stderr",
     "output_type": "stream",
     "text": [
      "31it [00:01, 24.50it/s]\n"
     ]
    },
    {
     "name": "stdout",
     "output_type": "stream",
     "text": [
      "pro:\n",
      "juges: 0.26592899812581355\n",
      "fortin: 0.21606731097722348\n",
      "déportation: 0.1495850614457701\n",
      "enceinte: 0.13296449906290678\n",
      "ailleurs: 0.11634393668004343\n",
      "présence: 0.11634393668004343\n",
      "blanquistes: 0.09972337429718008\n",
      "dereure: 0.09972337429718008\n",
      "tridon: 0.09972337429718008\n",
      "cabinet: 0.08310281191431673\n",
      "\n",
      "anti:\n",
      "fédérés: 0.19668431441216472\n",
      "brigadier: 0.13767902008851532\n",
      "liberté: 0.13767902008851532\n",
      "michel: 0.13767902008851532\n",
      "ferait: 0.09834215720608236\n",
      "foutre: 0.09834215720608236\n",
      "individu: 0.09834215720608236\n",
      "presque: 0.09834215720608236\n",
      "ramain: 0.09834215720608236\n",
      "yeux: 0.09834215720608236\n",
      "\n",
      "commune\n"
     ]
    },
    {
     "name": "stderr",
     "output_type": "stream",
     "text": [
      "31it [00:11,  2.78it/s]\n"
     ]
    },
    {
     "name": "stdout",
     "output_type": "stream",
     "text": [
      "pro:\n",
      "costa: 0.15627751460683262\n",
      "blanquistes: 0.12651036896743592\n",
      "re: 0.11906858255758676\n",
      "nou: 0.07441786409849173\n",
      "obligation: 0.07441786409849173\n",
      "industriels: 0.06697607768864255\n",
      "nouméa: 0.06697607768864255\n",
      "andrieu: 0.05953429127879338\n",
      "dois: 0.05953429127879338\n",
      "financière: 0.05953429127879338\n",
      "\n",
      "anti:\n",
      "santé: 0.09787170074501608\n",
      "siége: 0.09034310838001486\n",
      "150: 0.06775733128501114\n",
      "abattre: 0.06775733128501114\n",
      "foutre: 0.06775733128501114\n",
      "oeuvres: 0.06775733128501114\n",
      "artistes: 0.060228738920009905\n",
      "canonnières: 0.060228738920009905\n",
      "chapelle: 0.060228738920009905\n",
      "chevaux: 0.060228738920009905\n",
      "\n",
      "garde nationale\n"
     ]
    },
    {
     "name": "stderr",
     "output_type": "stream",
     "text": [
      "31it [00:02, 13.85it/s]\n"
     ]
    },
    {
     "name": "stdout",
     "output_type": "stream",
     "text": [
      "pro:\n",
      "propriété: 0.09951911611494307\n",
      "pût: 0.09951911611494307\n",
      "armés: 0.0870792266005752\n",
      "bruit: 0.07463933708620729\n",
      "cas: 0.07463933708620729\n",
      "communales: 0.07463933708620729\n",
      "père: 0.07463933708620729\n",
      "rester: 0.07463933708620729\n",
      "suprême: 0.07463933708620729\n",
      "tion: 0.07463933708620729\n",
      "\n",
      "anti:\n",
      "commandants: 0.12295849095024002\n",
      "mercredi: 0.12295849095024002\n",
      "affiches: 0.10539299224306285\n",
      "siége: 0.10539299224306285\n",
      "ant: 0.08782749353588572\n",
      "billioray: 0.08782749353588572\n",
      "dépôt: 0.08782749353588572\n",
      "respecter: 0.08782749353588572\n",
      "régulièrement: 0.08782749353588572\n",
      "60: 0.07026199482870857\n",
      "\n"
     ]
    }
   ],
   "source": [
    "for name in names:\n",
    "    print(name)\n",
    "    tfidf_words([name])"
   ]
  },
  {
   "cell_type": "code",
   "execution_count": 13,
   "id": "92cba3ae",
   "metadata": {},
   "outputs": [
    {
     "name": "stderr",
     "output_type": "stream",
     "text": [
      "31it [00:02, 13.94it/s]\n"
     ]
    }
   ],
   "source": [
    "garde = extract_woi_context(data, ['garde nationale'], \"<sb>\")"
   ]
  },
  {
   "cell_type": "code",
   "execution_count": 14,
   "id": "e88cdd46",
   "metadata": {},
   "outputs": [
    {
     "data": {
      "text/plain": [
       "[\"<pb> des mandats d'amener, nous dit-on, ont été lancés par le comité central contre les commandants des 17e, 18e, 19e, 20e, et 106e bataillons de la garde nationale, coupables d'être à la tête de bataillons composés en majorité d'honnêtes gens. <sb>\",\n",
       " \"<sb> deux commandants de la garde nationale, piazza et brunel, dans la nuit du 27 au 28 janvier, prirent, l’un le titre de général et l’autre celui de chef d'état-major et firent afficher dans paris un ordre du jour à la garde nationale. \",\n",
       " \"<sb> deux commandants de la garde nationale, piazza et brunel, dans la nuit du 27 au 28 janvier, prirent, l’un le titre de général et l’autre celui de chef d'état-major et firent afficher dans paris un ordre du jour à la garde nationale. \",\n",
       " \"<sb> on obéissait à tout le monde, au gouverneur, aux ministres, aux maires, aux chefs de corps, aux commandants de la garde nationale, aux présidents des comités et des clubs; ces autorités multiples détruisaient l'autorité. <sb>\",\n",
       " \"<pb> a l'annonce de ce que l'on nommait l'armistice,— et qui était en réalité une simple capitulation, puisque nous livrions tous les forts sous paris, —la garde nationale fut exaspérée ; les commandants qui s'étaient le moins battus furent ceux qui poussèrent les plus hauts cris; il y eut des scènes très-pénibles chez le général clément thomas, et les reproches emportés qu'il adressa à certains tranche-montagnes de cabarets furent une des raisons déterminantes de la mort atroce qui lui fut infligée le 18 mars. <sb>\",\n",
       " \"<sb> alphonse daudet, a donné, dans le style vif et familier qui lui est propre, une impression tellement juste qu'il convient de la citer : « et dire que pour certaines gens ces cinq mois de tristesse énervante auront été un événement, une fête perpétuelle, depuis les baladeurs de faubourg, qui gagnent leurs 45 sous par jour à ne rien faire, jusqu'aux majors à sept galons, entrepreneurs de barricades en chambre, ambulanciers de gamache, tout reluisants de bon jus de viande, francs-tireurs fantaisistes et n'appelant plus les garçons qu'à coups de sifflet d'omnibus, commandants de la garde nationale logés avec leurs dames dans des appartements réquisitionnés, tous les accapareurs, tous les exploiteurs, les voleurs de chiens, les chasseurs de chats, les marchands de pieds de cheval, d'albumine, de gélatine, les éleveurs de pigeons, les propriétaires de vaches laitières, et ceux qui ont des billets chez l'huissier, et ceux qui n'aiment pas payer leur terme, pour tout ce monde-là, la fin du 4 proudhon, correspondance, 1.1er, p. <sb>\",\n",
       " '<pb> aux chefs de bataillons et commandants de compagnies de la garde nationale. ',\n",
       " '<pb> le 1er mai une réunion de commandants nomma une commission de réorganisation de la garde nationale. ']"
      ]
     },
     "execution_count": 14,
     "metadata": {},
     "output_type": "execute_result"
    }
   ],
   "source": [
    "filtered_df = garde[garde['text'].str.contains('commandants')]\n",
    "list(filtered_df.text.values)"
   ]
  },
  {
   "cell_type": "code",
   "execution_count": 15,
   "id": "0f39c087",
   "metadata": {},
   "outputs": [
    {
     "data": {
      "text/html": [
       "<div>\n",
       "<style scoped>\n",
       "    .dataframe tbody tr th:only-of-type {\n",
       "        vertical-align: middle;\n",
       "    }\n",
       "\n",
       "    .dataframe tbody tr th {\n",
       "        vertical-align: top;\n",
       "    }\n",
       "\n",
       "    .dataframe thead th {\n",
       "        text-align: right;\n",
       "    }\n",
       "</style>\n",
       "<table border=\"1\" class=\"dataframe\">\n",
       "  <thead>\n",
       "    <tr style=\"text-align: right;\">\n",
       "      <th></th>\n",
       "      <th>filename</th>\n",
       "      <th>memoir_len_sans_sb_pb</th>\n",
       "      <th>bias</th>\n",
       "      <th>woi</th>\n",
       "      <th>woi_location</th>\n",
       "      <th>extraction_method</th>\n",
       "      <th>text</th>\n",
       "    </tr>\n",
       "  </thead>\n",
       "  <tbody>\n",
       "    <tr>\n",
       "      <th>737</th>\n",
       "      <td>arsac.txt</td>\n",
       "      <td>141550</td>\n",
       "      <td>anti</td>\n",
       "      <td>garde nationale</td>\n",
       "      <td>149</td>\n",
       "      <td>&lt;sb&gt;</td>\n",
       "      <td>&lt;pb&gt; des mandats d'amener, nous dit-on, ont ét...</td>\n",
       "    </tr>\n",
       "    <tr>\n",
       "      <th>906</th>\n",
       "      <td>bourde.txt</td>\n",
       "      <td>88824</td>\n",
       "      <td>anti</td>\n",
       "      <td>garde nationale</td>\n",
       "      <td>28</td>\n",
       "      <td>&lt;sb&gt;</td>\n",
       "      <td>&lt;sb&gt; deux commandants de la garde nationale, p...</td>\n",
       "    </tr>\n",
       "    <tr>\n",
       "      <th>907</th>\n",
       "      <td>bourde.txt</td>\n",
       "      <td>88824</td>\n",
       "      <td>anti</td>\n",
       "      <td>garde nationale</td>\n",
       "      <td>221</td>\n",
       "      <td>&lt;sb&gt;</td>\n",
       "      <td>&lt;sb&gt; deux commandants de la garde nationale, p...</td>\n",
       "    </tr>\n",
       "    <tr>\n",
       "      <th>1006</th>\n",
       "      <td>du_camp_2.txt</td>\n",
       "      <td>116707</td>\n",
       "      <td>anti</td>\n",
       "      <td>garde nationale</td>\n",
       "      <td>119</td>\n",
       "      <td>&lt;sb&gt;</td>\n",
       "      <td>&lt;sb&gt; on obéissait à tout le monde, au gouverne...</td>\n",
       "    </tr>\n",
       "    <tr>\n",
       "      <th>1033</th>\n",
       "      <td>du_camp_2.txt</td>\n",
       "      <td>116707</td>\n",
       "      <td>anti</td>\n",
       "      <td>garde nationale</td>\n",
       "      <td>156</td>\n",
       "      <td>&lt;sb&gt;</td>\n",
       "      <td>&lt;pb&gt; a l'annonce de ce que l'on nommait l'armi...</td>\n",
       "    </tr>\n",
       "    <tr>\n",
       "      <th>1040</th>\n",
       "      <td>du_camp_2.txt</td>\n",
       "      <td>116707</td>\n",
       "      <td>anti</td>\n",
       "      <td>garde nationale</td>\n",
       "      <td>590</td>\n",
       "      <td>&lt;sb&gt;</td>\n",
       "      <td>&lt;sb&gt; alphonse daudet, a donné, dans le style v...</td>\n",
       "    </tr>\n",
       "    <tr>\n",
       "      <th>1097</th>\n",
       "      <td>fayard.txt</td>\n",
       "      <td>193091</td>\n",
       "      <td>anti</td>\n",
       "      <td>garde nationale</td>\n",
       "      <td>64</td>\n",
       "      <td>&lt;sb&gt;</td>\n",
       "      <td>&lt;pb&gt; aux chefs de bataillons et commandants de...</td>\n",
       "    </tr>\n",
       "    <tr>\n",
       "      <th>1112</th>\n",
       "      <td>fayard.txt</td>\n",
       "      <td>193091</td>\n",
       "      <td>anti</td>\n",
       "      <td>garde nationale</td>\n",
       "      <td>88</td>\n",
       "      <td>&lt;sb&gt;</td>\n",
       "      <td>&lt;pb&gt; le 1er mai une réunion de commandants nom...</td>\n",
       "    </tr>\n",
       "  </tbody>\n",
       "</table>\n",
       "</div>"
      ],
      "text/plain": [
       "           filename  memoir_len_sans_sb_pb  bias              woi   \n",
       "737       arsac.txt                 141550  anti  garde nationale  \\\n",
       "906      bourde.txt                  88824  anti  garde nationale   \n",
       "907      bourde.txt                  88824  anti  garde nationale   \n",
       "1006  du_camp_2.txt                 116707  anti  garde nationale   \n",
       "1033  du_camp_2.txt                 116707  anti  garde nationale   \n",
       "1040  du_camp_2.txt                 116707  anti  garde nationale   \n",
       "1097     fayard.txt                 193091  anti  garde nationale   \n",
       "1112     fayard.txt                 193091  anti  garde nationale   \n",
       "\n",
       "      woi_location extraction_method   \n",
       "737            149              <sb>  \\\n",
       "906             28              <sb>   \n",
       "907            221              <sb>   \n",
       "1006           119              <sb>   \n",
       "1033           156              <sb>   \n",
       "1040           590              <sb>   \n",
       "1097            64              <sb>   \n",
       "1112            88              <sb>   \n",
       "\n",
       "                                                   text  \n",
       "737   <pb> des mandats d'amener, nous dit-on, ont ét...  \n",
       "906   <sb> deux commandants de la garde nationale, p...  \n",
       "907   <sb> deux commandants de la garde nationale, p...  \n",
       "1006  <sb> on obéissait à tout le monde, au gouverne...  \n",
       "1033  <pb> a l'annonce de ce que l'on nommait l'armi...  \n",
       "1040  <sb> alphonse daudet, a donné, dans le style v...  \n",
       "1097  <pb> aux chefs de bataillons et commandants de...  \n",
       "1112  <pb> le 1er mai une réunion de commandants nom...  "
      ]
     },
     "execution_count": 15,
     "metadata": {},
     "output_type": "execute_result"
    }
   ],
   "source": [
    "filtered_df"
   ]
  },
  {
   "cell_type": "code",
   "execution_count": 16,
   "id": "1df72c24",
   "metadata": {},
   "outputs": [
    {
     "name": "stderr",
     "output_type": "stream",
     "text": [
      "31it [00:01, 23.79it/s]\n"
     ]
    }
   ],
   "source": [
    "favre = extract_woi_context(data, ['favre'], \"<sb>\")"
   ]
  },
  {
   "cell_type": "code",
   "execution_count": 17,
   "id": "be2a95fd",
   "metadata": {},
   "outputs": [],
   "source": [
    "filtered_df = favre[favre['text'].str.contains('prêtres')]"
   ]
  },
  {
   "cell_type": "code",
   "execution_count": 18,
   "id": "afb91c4c",
   "metadata": {},
   "outputs": [
    {
     "data": {
      "text/html": [
       "<div>\n",
       "<style scoped>\n",
       "    .dataframe tbody tr th:only-of-type {\n",
       "        vertical-align: middle;\n",
       "    }\n",
       "\n",
       "    .dataframe tbody tr th {\n",
       "        vertical-align: top;\n",
       "    }\n",
       "\n",
       "    .dataframe thead th {\n",
       "        text-align: right;\n",
       "    }\n",
       "</style>\n",
       "<table border=\"1\" class=\"dataframe\">\n",
       "  <thead>\n",
       "    <tr style=\"text-align: right;\">\n",
       "      <th></th>\n",
       "      <th>filename</th>\n",
       "      <th>memoir_len_sans_sb_pb</th>\n",
       "      <th>bias</th>\n",
       "      <th>woi</th>\n",
       "      <th>woi_location</th>\n",
       "      <th>extraction_method</th>\n",
       "      <th>text</th>\n",
       "    </tr>\n",
       "  </thead>\n",
       "  <tbody>\n",
       "    <tr>\n",
       "      <th>377</th>\n",
       "      <td>arsac.txt</td>\n",
       "      <td>141550</td>\n",
       "      <td>anti</td>\n",
       "      <td>favre</td>\n",
       "      <td>310</td>\n",
       "      <td>&lt;sb&gt;</td>\n",
       "      <td>&lt;sb&gt; la curieuse pièce suivante, affichée sur ...</td>\n",
       "    </tr>\n",
       "    <tr>\n",
       "      <th>384</th>\n",
       "      <td>catulle.txt</td>\n",
       "      <td>89053</td>\n",
       "      <td>anti</td>\n",
       "      <td>favre</td>\n",
       "      <td>281</td>\n",
       "      <td>&lt;sb&gt;</td>\n",
       "      <td>&lt;sb&gt; hier, on lisait l'affiche suivante lacard...</td>\n",
       "    </tr>\n",
       "    <tr>\n",
       "      <th>434</th>\n",
       "      <td>du_camp_2.txt</td>\n",
       "      <td>116707</td>\n",
       "      <td>anti</td>\n",
       "      <td>favre</td>\n",
       "      <td>257</td>\n",
       "      <td>&lt;sb&gt;</td>\n",
       "      <td>&lt;sb&gt; le 19 avril, on afficha cette sanie sur l...</td>\n",
       "    </tr>\n",
       "    <tr>\n",
       "      <th>473</th>\n",
       "      <td>rodrigues.txt</td>\n",
       "      <td>58363</td>\n",
       "      <td>anti</td>\n",
       "      <td>favre</td>\n",
       "      <td>280</td>\n",
       "      <td>&lt;sb&gt;</td>\n",
       "      <td>&lt;sb&gt; un spécimen du genre sur l'affiche apposé...</td>\n",
       "    </tr>\n",
       "  </tbody>\n",
       "</table>\n",
       "</div>"
      ],
      "text/plain": [
       "          filename  memoir_len_sans_sb_pb  bias    woi  woi_location   \n",
       "377      arsac.txt                 141550  anti  favre           310  \\\n",
       "384    catulle.txt                  89053  anti  favre           281   \n",
       "434  du_camp_2.txt                 116707  anti  favre           257   \n",
       "473  rodrigues.txt                  58363  anti  favre           280   \n",
       "\n",
       "    extraction_method                                               text  \n",
       "377              <sb>  <sb> la curieuse pièce suivante, affichée sur ...  \n",
       "384              <sb>  <sb> hier, on lisait l'affiche suivante lacard...  \n",
       "434              <sb>  <sb> le 19 avril, on afficha cette sanie sur l...  \n",
       "473              <sb>  <sb> un spécimen du genre sur l'affiche apposé...  "
      ]
     },
     "execution_count": 18,
     "metadata": {},
     "output_type": "execute_result"
    }
   ],
   "source": [
    "filtered_df"
   ]
  },
  {
   "cell_type": "code",
   "execution_count": 19,
   "id": "4221db38",
   "metadata": {},
   "outputs": [
    {
     "data": {
      "text/plain": [
       "[\"<sb> la curieuse pièce suivante, affichée sur les portes fermées de l'église, donne les motifs de ces odieuses arrestations : « attendu que les prêtres sont des bandits et que les églises sont des repaires où ils ont assassiné moralement les masses, en courbant la france sous la griffe des infâmes bonaparte, favre et trochu, le délégué civil des carrières près l'ex-préfecture de police ordonne que l'église de saint-pierre (montmartre) soit fermée, et décrète l'arrestation des prêtres et des ignorantins. \",\n",
       " \"<sb> hier, on lisait l'affiche suivante lacardée sur les portes fermées de l'église, à montmartre : « attendu que les prêtres sont des bandits t que les églises sont des repaires où ils ont assassiné noralement les masses en courbant la france sous la riffe des infames bonaparte, favre et trochu, le élégué des carrières près l'ex-préfecture de police rdonne que l'église de saint-pierre (et non de cinqierres, cette fois) soit fermée et décrète l'arrestation des prêtres et des ignorantins. <sb>\",\n",
       " \"<sb> le 19 avril, on afficha cette sanie sur les murailles de montmartre : « attendu que les prêtres sont des bandits et que les églises sont des repaires où ils ont assassiné moralement les masses en courbant la france sous la griffe infâme des bonaparte, favre et trochu, le délégué civil des carrières près l'ex-préfecture de police ordonne que l'église saint-pierre-montmartre soit fermée et décrète l'arrestation des prêtres et ignorantins. <sb>\",\n",
       " \"<sb> un spécimen du genre sur l'affiche apposée sur les portes de l'église saint-pierre-montmartre attendu que les prêtres sont des bandits et que les églises sont des repaires où ils ont moralement assassiné les masses en courbant la france sous la griffe des infames bonaparte, favre et vlnoy le délégué civil des carrières, près l'ex-préfecture de police, ordonne que l'église de saint-pierre-montmartre, soit fermée etdécrète l'arrestation des prêtres et des ignorantins. \"]"
      ]
     },
     "execution_count": 19,
     "metadata": {},
     "output_type": "execute_result"
    }
   ],
   "source": [
    "list(filtered_df.text.values)"
   ]
  },
  {
   "cell_type": "code",
   "execution_count": 20,
   "id": "49675369",
   "metadata": {},
   "outputs": [
    {
     "name": "stderr",
     "output_type": "stream",
     "text": [
      "31it [00:01, 28.77it/s]\n"
     ]
    },
    {
     "name": "stdout",
     "output_type": "stream",
     "text": [
      "pro:\n",
      "eglise: 0.12524485821702913\n",
      "mouchards: 0.12524485821702913\n",
      "révolutionnaires: 0.12524485821702913\n",
      "socialisme: 0.12524485821702913\n",
      "instruction: 0.09393364366277185\n",
      "lieu: 0.09393364366277185\n",
      "misérables: 0.09393364366277185\n",
      "presse: 0.09393364366277185\n",
      "public: 0.09393364366277185\n",
      "sang: 0.09393364366277185\n",
      "\n",
      "anti:\n",
      "prison: 0.16590798971560275\n",
      "faut: 0.14931719074404246\n",
      "murs: 0.14931719074404246\n",
      "fusillé: 0.1327263917724822\n",
      "père: 0.1327263917724822\n",
      "bandits: 0.09954479382936164\n",
      "incarcérés: 0.09954479382936164\n",
      "magistrats: 0.09954479382936164\n",
      "montmartre: 0.09954479382936164\n",
      "picpus: 0.09954479382936164\n",
      "\n"
     ]
    }
   ],
   "source": [
    "tfidf_words(['prêtres'])"
   ]
  },
  {
   "cell_type": "markdown",
   "id": "7361acc1",
   "metadata": {},
   "source": [
    "---------------------"
   ]
  },
  {
   "cell_type": "code",
   "execution_count": 21,
   "id": "72833e4e",
   "metadata": {},
   "outputs": [],
   "source": [
    "words = ['semaine sanglante', 'thiers', 'versaillais', 'communards']"
   ]
  },
  {
   "cell_type": "code",
   "execution_count": 22,
   "id": "4afb277a",
   "metadata": {
    "scrolled": false
   },
   "outputs": [
    {
     "name": "stdout",
     "output_type": "stream",
     "text": [
      "semaine sanglante\n"
     ]
    },
    {
     "name": "stderr",
     "output_type": "stream",
     "text": [
      "31it [00:00, 46.37it/s]\n"
     ]
    },
    {
     "name": "stdout",
     "output_type": "stream",
     "text": [
      "pro:\n",
      "partie: 0.27650063180466594\n",
      "chapitre: 0.22120050544373276\n",
      "commune: 0.16590037908279956\n",
      "militaire: 0.16590037908279956\n",
      "bataille: 0.11060025272186638\n",
      "défense: 0.11060025272186638\n",
      "faveur: 0.11060025272186638\n",
      "heure: 0.11060025272186638\n",
      "massacre: 0.11060025272186638\n",
      "milliers: 0.11060025272186638\n",
      "\n",
      "anti:\n",
      "appellent: 0.2581988897471612\n",
      "aussitôt: 0.2581988897471612\n",
      "auteur: 0.2581988897471612\n",
      "commence: 0.2581988897471612\n",
      "communards: 0.2581988897471612\n",
      "déjà: 0.2581988897471612\n",
      "imagé: 0.2581988897471612\n",
      "mémoire: 0.2581988897471612\n",
      "nom: 0.2581988897471612\n",
      "porte: 0.2581988897471612\n",
      "\n",
      "thiers\n"
     ]
    },
    {
     "name": "stderr",
     "output_type": "stream",
     "text": [
      "31it [00:02, 11.60it/s]\n"
     ]
    },
    {
     "name": "stdout",
     "output_type": "stream",
     "text": [
      "pro:\n",
      "prussiens: 0.14350946197048078\n",
      "révolution: 0.119591218308734\n",
      "ailleurs: 0.11161847042148507\n",
      "massacre: 0.11161847042148507\n",
      "etat: 0.10364572253423612\n",
      "prise: 0.10364572253423612\n",
      "agent: 0.0956729746469872\n",
      "doute: 0.0956729746469872\n",
      "louis: 0.08770022675973826\n",
      "versaillais: 0.08770022675973826\n",
      "\n",
      "anti:\n",
      "collection: 0.1849000654084082\n",
      "objets: 0.13867504905630615\n",
      "fontaine: 0.11556254088025514\n",
      "aimait: 0.0924500327042041\n",
      "arrête: 0.0924500327042041\n",
      "consulat: 0.0924500327042041\n",
      "gamin: 0.0924500327042041\n",
      "24: 0.06933752452815307\n",
      "approche: 0.06933752452815307\n",
      "bronzes: 0.06933752452815307\n",
      "\n",
      "versaillais\n"
     ]
    },
    {
     "name": "stderr",
     "output_type": "stream",
     "text": [
      "31it [00:01, 17.70it/s]\n"
     ]
    },
    {
     "name": "stdout",
     "output_type": "stream",
     "text": [
      "pro:\n",
      "prussiens: 0.17485620077729147\n",
      "000: 0.13599926727122671\n",
      "sang: 0.1262850338947105\n",
      "thiers: 0.10685656714167813\n",
      "vinoy: 0.10685656714167813\n",
      "amis: 0.09714233376516193\n",
      "assemblée: 0.09714233376516193\n",
      "bataillons: 0.09714233376516193\n",
      "yeux: 0.09714233376516193\n",
      "immédiatement: 0.08742810038864574\n",
      "\n",
      "anti:\n",
      "criait: 0.1374124274823272\n",
      "signal: 0.1374124274823272\n",
      "conduite: 0.10992994198586176\n",
      "garçon: 0.10992994198586176\n",
      "tenir: 0.10992994198586176\n",
      "envoient: 0.08244745648939632\n",
      "levallois: 0.08244745648939632\n",
      "malade: 0.08244745648939632\n",
      "matinée: 0.08244745648939632\n",
      "opéra: 0.08244745648939632\n",
      "\n",
      "communards\n"
     ]
    },
    {
     "name": "stderr",
     "output_type": "stream",
     "text": [
      "31it [00:00, 33.63it/s]\n"
     ]
    },
    {
     "name": "stdout",
     "output_type": "stream",
     "text": [
      "pro:\n",
      "bagne: 0.2101565081224354\n",
      "condamnés: 0.18680578499772035\n",
      "forçats: 0.16345506187300532\n",
      "france: 0.11675361562357524\n",
      "bord: 0.09340289249886018\n",
      "brissac: 0.09340289249886018\n",
      "grand: 0.09340289249886018\n",
      "nord: 0.09340289249886018\n",
      "prendre: 0.09340289249886018\n",
      "surveillant: 0.09340289249886018\n",
      "\n",
      "anti:\n",
      "colonne: 0.11219363880101454\n",
      "alle1: 0.07479575920067637\n",
      "armée: 0.07479575920067637\n",
      "barricade: 0.07479575920067637\n",
      "cluseret: 0.07479575920067637\n",
      "croire: 0.07479575920067637\n",
      "empire: 0.07479575920067637\n",
      "empressèrent: 0.07479575920067637\n",
      "exécution: 0.07479575920067637\n",
      "faits: 0.07479575920067637\n",
      "\n"
     ]
    }
   ],
   "source": [
    "for word in words:\n",
    "    print(word)\n",
    "    tfidf_words([word])"
   ]
  },
  {
   "cell_type": "code",
   "execution_count": 150,
   "id": "6ace572f",
   "metadata": {},
   "outputs": [
    {
     "name": "stderr",
     "output_type": "stream",
     "text": [
      "31it [00:02, 12.21it/s]\n"
     ]
    }
   ],
   "source": [
    "versaillais = extract_woi_context(data, ['thiers'], \"<sb>\")\n",
    "filtered_df = versaillais[versaillais['text'].str.contains('collection')]"
   ]
  },
  {
   "cell_type": "code",
   "execution_count": 146,
   "id": "a74c6300",
   "metadata": {},
   "outputs": [
    {
     "data": {
      "text/html": [
       "<div>\n",
       "<style scoped>\n",
       "    .dataframe tbody tr th:only-of-type {\n",
       "        vertical-align: middle;\n",
       "    }\n",
       "\n",
       "    .dataframe tbody tr th {\n",
       "        vertical-align: top;\n",
       "    }\n",
       "\n",
       "    .dataframe thead th {\n",
       "        text-align: right;\n",
       "    }\n",
       "</style>\n",
       "<table border=\"1\" class=\"dataframe\">\n",
       "  <thead>\n",
       "    <tr style=\"text-align: right;\">\n",
       "      <th></th>\n",
       "      <th>filename</th>\n",
       "      <th>memoir_len_sans_sb_pb</th>\n",
       "      <th>bias</th>\n",
       "      <th>woi</th>\n",
       "      <th>woi_location</th>\n",
       "      <th>extraction_method</th>\n",
       "      <th>text</th>\n",
       "    </tr>\n",
       "  </thead>\n",
       "  <tbody>\n",
       "    <tr>\n",
       "      <th>1148</th>\n",
       "      <td>arsac.txt</td>\n",
       "      <td>141550</td>\n",
       "      <td>anti</td>\n",
       "      <td>thiers</td>\n",
       "      <td>170</td>\n",
       "      <td>&lt;sb&gt;</td>\n",
       "      <td>&lt;sb&gt; ji « sur la délibération approuvée du com...</td>\n",
       "    </tr>\n",
       "    <tr>\n",
       "      <th>1151</th>\n",
       "      <td>bourde.txt</td>\n",
       "      <td>88824</td>\n",
       "      <td>anti</td>\n",
       "      <td>thiers</td>\n",
       "      <td>5</td>\n",
       "      <td>&lt;sb&gt;</td>\n",
       "      <td>&lt;sb&gt; thiers, mais il laissa faire fontaine et ...</td>\n",
       "    </tr>\n",
       "    <tr>\n",
       "      <th>1613</th>\n",
       "      <td>fayard.txt</td>\n",
       "      <td>193091</td>\n",
       "      <td>anti</td>\n",
       "      <td>thiers</td>\n",
       "      <td>114</td>\n",
       "      <td>&lt;sb&gt;</td>\n",
       "      <td>&lt;sb&gt; je donne lecture d'une lettre du citoyen ...</td>\n",
       "    </tr>\n",
       "    <tr>\n",
       "      <th>1614</th>\n",
       "      <td>fayard.txt</td>\n",
       "      <td>193091</td>\n",
       "      <td>anti</td>\n",
       "      <td>thiers</td>\n",
       "      <td>203</td>\n",
       "      <td>&lt;sb&gt;</td>\n",
       "      <td>&lt;pb&gt; » le citoyen fontaine, directeur des omai...</td>\n",
       "    </tr>\n",
       "    <tr>\n",
       "      <th>1719</th>\n",
       "      <td>morel.txt</td>\n",
       "      <td>43102</td>\n",
       "      <td>anti</td>\n",
       "      <td>thiers</td>\n",
       "      <td>5</td>\n",
       "      <td>&lt;sb&gt;</td>\n",
       "      <td>&lt;sb&gt; thiers démoli sous la présisidence du dél...</td>\n",
       "    </tr>\n",
       "  </tbody>\n",
       "</table>\n",
       "</div>"
      ],
      "text/plain": [
       "        filename  memoir_len_sans_sb_pb  bias     woi  woi_location   \n",
       "1148   arsac.txt                 141550  anti  thiers           170  \\\n",
       "1151  bourde.txt                  88824  anti  thiers             5   \n",
       "1613  fayard.txt                 193091  anti  thiers           114   \n",
       "1614  fayard.txt                 193091  anti  thiers           203   \n",
       "1719   morel.txt                  43102  anti  thiers             5   \n",
       "\n",
       "     extraction_method                                               text  \n",
       "1148              <sb>  <sb> ji « sur la délibération approuvée du com...  \n",
       "1151              <sb>  <sb> thiers, mais il laissa faire fontaine et ...  \n",
       "1613              <sb>  <sb> je donne lecture d'une lettre du citoyen ...  \n",
       "1614              <sb>  <pb> » le citoyen fontaine, directeur des omai...  \n",
       "1719              <sb>  <sb> thiers démoli sous la présisidence du dél...  "
      ]
     },
     "execution_count": 146,
     "metadata": {},
     "output_type": "execute_result"
    }
   ],
   "source": [
    "filtered_df"
   ]
  },
  {
   "cell_type": "code",
   "execution_count": 151,
   "id": "819b744a",
   "metadata": {},
   "outputs": [
    {
     "data": {
      "text/plain": [
       "['<sb> thiers et se souvint alors de son ancien métier : « la collection thiers, dit-il, se compose de richesses bibliographiques pour la conservation desquelles je demande qu’on nomme une commission. <sb>',\n",
       " '<sb> thiers et se souvint alors de son ancien métier : « la collection thiers, dit-il, se compose de richesses bibliographiques pour la conservation desquelles je demande qu’on nomme une commission. <sb>',\n",
       " \"<sb> thiers ne se bornait pas seulement à la destruction d'un immeuble de jolie apparence, construit sur un terrain spacieux, dans un des plus élégants quartiers de paris ; ce qui le touchait plus encore que cette perte, c'était la disparition des objets d'art et des précieuses collections qu'il y avait réunies. <sb>\",\n",
       " '<sb> dans une séance qui se tint le 12 mai, le citoyen courbet avait dit à ses collègues « le sieur thiers a une collection de bronzes antiques je demande ce que je dois en faire? <sb>',\n",
       " \"<sb> thiers eut l'idée de se ménager, derrière son cabinet de travail, une sorte de petit musée où il classait soigneusement les débris de sa collection. <sb>\",\n",
       " '<sb> le sieur thiers a une collection de bronzes antiques ; je demande ce que je dois en faire. ',\n",
       " \"<sb> les objets de la collection de thiers sont dignes d'un musée.- voulez-vous qu'on les transporte au louvre ou à l'hôtel-de-ville, ou voulez-vous les faire vendre publiquemen ? \",\n",
       " \"<sb> relativement à la collection des objets d'art de thiers, la commission executive, dont faisait partie le citoyen félix pyat, avait désigné deux hommes spéciaux, c'étaient le citoyen courbet et moi. <sb>\",\n",
       " \"<sb> la collection thiers se compose aussi de richesses bibliographiques pour la conservation desquelles je demande qu'on nomme une commission ; je désirerais en faire partie. \",\n",
       " '<sb> thiers, il avait pensé rendre service au chef du pouvoir exécutif, qui avait à cette époque montré une certaine animosité contre les princes, en demandant que toutes les pièces de la collection de m. <sb>',\n",
       " \"<sb> thiers, trouve plaisant de faire démolir sa maison par les lecteurs du mot d'ordre, pour avoir l'occasion de rendre visite à ses collections qu'il n'avait pu visiter autrement. \"]"
      ]
     },
     "execution_count": 151,
     "metadata": {},
     "output_type": "execute_result"
    }
   ],
   "source": [
    "list(filtered_df.text.values)"
   ]
  },
  {
   "cell_type": "code",
   "execution_count": 62,
   "id": "087f80f1",
   "metadata": {},
   "outputs": [
    {
     "data": {
      "text/plain": [
       "[\"<sb> » effectivement, quelques heures après, le dialogue suivant s'engageait entre lc format politique et l'aidemajor, qui devait payer de sa.révocation sa constante bienveillance pour les condamnés communards « est-ce bien lu fin, cette fois? \",\n",
       " '<sb> dans les derniers temps, ces braves gens ne nous considéraient plus du tout comme des condamnés; au risque de passer eux-mêmes pour communards, ils nous recevaient fréquemment à leur table, lucipia, fortin et moi, –ce)a au grand scandale des gardes-chiourme ébahis et de quelques officiers qui en avaient le tempérament. <sb>',\n",
       " \"<sb> en sa pauvre cervelle, où le fanatisme le disputait à la haine contre les hommes de la commune, surgit cette pensée généreuse : faire crever de soif ces crapules de communards ! n’avaient-ils pas tué l'archevêque de paris, blasphémé le saint nom de dieu, insulté la religion ! on n’en avait pas assez massacré, puisqu'il y en avait encore à bord, et le bon catholique omit d'alimenter le foudre! vainement, les condamnés s’acharnaient au sucçoir; quelques-uns, atteints de scorbut, y collaient leurs lèvres, énormes et violacées, mais rien ne venait, et la fièvre de la soif gagnait la cage, qui s’affolait de plus en plus. <sb>\",\n",
       " '<sb> < quelques autres communards et une quinzaine de condamnés de droit commun se livraient à des travaux actifs : luce, humphel, fourestier, lambert, etc., etc. <sb>',\n",
       " \"<pb> huit des conjurés travaillaient à l’îlot fraycinet, où l'on construisait un lazaret; ils devaient s'emparer du remorqueur qui, chaque matin et chaque soir, menait la corvée à l’ilot et la ramenait au bagne, en trainant à sa suite la chaloupe, privée de ses voiles et de ses rames, dans laquelle se tenaient les condamnés, cette première opération menée à bien, ils devaient conduire le remorqueur vers la pointe nord de l'ile nou, où les cinq autres évadants les attendraient avec les vivres indispensables, les voiles et une certaine quanité de bois coupé, séché et dissimulé dans la parlie boisée de la montagne, maître de ce secret, je ne vivais plus, car je compreais que si cette évasion avait lieu, l’adminisiration pénitentiaire prendrait à l'égard des autres communards des mesures exceptionnelles, d'autant que déjà la pluart de ceux qui se trouvaient dans des postes relativeent tranquilles en avaient été enlevés. <sb>\",\n",
       " \"<pb> en un moment, le quartier-maïtre ferlandier se tourne vers nous el, moitié rieur, moitié sérieux, s'écrie : -— eh bien! les communards ! c’est aujourd'hui qu'on s’évade ?.… nous nous regardâmes {ous les dix sans prononcer un mot, pendant que quelques-uns des condamnés, qui n'étaient pas du complot, se mirent à plaisanter. <sb>\",\n",
       " \"<sb> j’aperçois alors un petit groupe de condamnés : trinquet, chinardet, deboffe, ducousso, réné, tous double-chaînes et comme moi de l'évasion du bulari ; à côté d'eux, trois ou quatre communards mis au peloton de correction pour « manquements à la discipline ». <sb>\",\n",
       " \"<pb> ces divers points réglés, nous priâmes le citoyen létourneau, contremaître du peloton des communards, de se présenter dès que le signal de l'appel serait donné et de faire connaître au chef de défilé que les condamnés de la commune avaient décidé de demeurer en leur case respective, et choisi deux délégués chargés d'aller, en leur nom, trouver m. <sb>\"]"
      ]
     },
     "execution_count": 62,
     "metadata": {},
     "output_type": "execute_result"
    }
   ],
   "source": [
    "list(filtered_df.text.values)"
   ]
  },
  {
   "cell_type": "code",
   "execution_count": 32,
   "id": "a0f1e062",
   "metadata": {},
   "outputs": [
    {
     "name": "stderr",
     "output_type": "stream",
     "text": [
      "31it [00:02, 12.76it/s]\n"
     ]
    },
    {
     "data": {
      "text/html": [
       "<div>\n",
       "<style scoped>\n",
       "    .dataframe tbody tr th:only-of-type {\n",
       "        vertical-align: middle;\n",
       "    }\n",
       "\n",
       "    .dataframe tbody tr th {\n",
       "        vertical-align: top;\n",
       "    }\n",
       "\n",
       "    .dataframe thead th {\n",
       "        text-align: right;\n",
       "    }\n",
       "</style>\n",
       "<table border=\"1\" class=\"dataframe\">\n",
       "  <thead>\n",
       "    <tr style=\"text-align: right;\">\n",
       "      <th></th>\n",
       "      <th>filename</th>\n",
       "      <th>memoir_len_sans_sb_pb</th>\n",
       "      <th>bias</th>\n",
       "      <th>woi</th>\n",
       "      <th>woi_location</th>\n",
       "      <th>extraction_method</th>\n",
       "      <th>text</th>\n",
       "    </tr>\n",
       "  </thead>\n",
       "  <tbody>\n",
       "    <tr>\n",
       "      <th>496</th>\n",
       "      <td>fayard.txt</td>\n",
       "      <td>193091</td>\n",
       "      <td>anti</td>\n",
       "      <td>ferré</td>\n",
       "      <td>225</td>\n",
       "      <td>&lt;sb&gt;</td>\n",
       "      <td>&lt;pb&gt; et nom de dieu ! il n'a pas tort ! commen...</td>\n",
       "    </tr>\n",
       "    <tr>\n",
       "      <th>499</th>\n",
       "      <td>fayard.txt</td>\n",
       "      <td>193091</td>\n",
       "      <td>anti</td>\n",
       "      <td>ferré</td>\n",
       "      <td>202</td>\n",
       "      <td>&lt;sb&gt;</td>\n",
       "      <td>&lt;pb&gt; non foutre ! on les prend pour servir je ...</td>\n",
       "    </tr>\n",
       "    <tr>\n",
       "      <th>500</th>\n",
       "      <td>fayard.txt</td>\n",
       "      <td>193091</td>\n",
       "      <td>anti</td>\n",
       "      <td>ferré</td>\n",
       "      <td>31</td>\n",
       "      <td>&lt;sb&gt;</td>\n",
       "      <td>&lt;pb&gt; eh bien! foutre ! citoyen ferré, le père ...</td>\n",
       "    </tr>\n",
       "    <tr>\n",
       "      <th>502</th>\n",
       "      <td>fayard.txt</td>\n",
       "      <td>193091</td>\n",
       "      <td>anti</td>\n",
       "      <td>ferré</td>\n",
       "      <td>118</td>\n",
       "      <td>&lt;sb&gt;</td>\n",
       "      <td>&lt;pb&gt; et les jean-foutres ne sauront pas où en ...</td>\n",
       "    </tr>\n",
       "  </tbody>\n",
       "</table>\n",
       "</div>"
      ],
      "text/plain": [
       "       filename  memoir_len_sans_sb_pb  bias    woi  woi_location   \n",
       "496  fayard.txt                 193091  anti  ferré           225  \\\n",
       "499  fayard.txt                 193091  anti  ferré           202   \n",
       "500  fayard.txt                 193091  anti  ferré            31   \n",
       "502  fayard.txt                 193091  anti  ferré           118   \n",
       "\n",
       "    extraction_method                                               text  \n",
       "496              <sb>  <pb> et nom de dieu ! il n'a pas tort ! commen...  \n",
       "499              <sb>  <pb> non foutre ! on les prend pour servir je ...  \n",
       "500              <sb>  <pb> eh bien! foutre ! citoyen ferré, le père ...  \n",
       "502              <sb>  <pb> et les jean-foutres ne sauront pas où en ...  "
      ]
     },
     "execution_count": 32,
     "metadata": {},
     "output_type": "execute_result"
    }
   ],
   "source": [
    "woi = extract_woi_context(data, ['ferré'], \"<sb>\")\n",
    "filtered_df = woi[woi['text'].str.contains('foutre')]\n",
    "filtered_df"
   ]
  },
  {
   "cell_type": "code",
   "execution_count": 33,
   "id": "74163852",
   "metadata": {},
   "outputs": [
    {
     "data": {
      "text/plain": [
       "[\"<pb> et nom de dieu ! il n'a pas tort ! comment, foutre ! on conspire dans paris, et le comité de salut public se remue comme un diable dans un bénitier, parce qu'il sent qu'il faut avoir l'oeil, et'ce nom de dieu de citoyen ferré, délégué à la sûreté, et le citoyen rigault procureur de la commune ne foutent rien, 278 histoire de la commune et boivent chopine sans doute, . \",\n",
       " \"<pb> non foutre ! on les prend pour servir je peuple ! et si l'on devient un jour roussin, il faut qu'on soit roussin de la révolution et qu'on le sauve ! ce n'est pas ainsi que tu la sauveras, citoyen ferré ! de 1871. \",\n",
       " \"<pb> eh bien! foutre ! citoyen ferré, le père duchène dit que la première chose à faire, c'est de foutre aux portes des citoyennes qui ouvrent l'oeil et qui ne laissent pas les mouchardes vaquer à leurs affaires, comme de bonnes petites bourgeoises , qui n'ont en tête que leur pot-au feu, et qui ne passent pas leur temps à faire de la contrebande ! fous aux portes de là ville des citoyen-. \",\n",
       " \"<pb> et les jean-foutres ne sauront pas où en trouver pour tenter un coup de main ! agis ce qu'il faut faire, citoyen ferré, et qui ne te fera pas blâmer par les bons bougres ! après comme tu le voudra, nom de dieu! mais ne dors pas, foutre ! et sois bien persuadé que si tu n'ouvres pas l'oeil sur les affaires de-la cité, le père duchène ouvre le sien sur ta personne, une belle affaire ! ça va bien nom de nom !.. <sb>\"]"
      ]
     },
     "execution_count": 33,
     "metadata": {},
     "output_type": "execute_result"
    }
   ],
   "source": [
    "list(filtered_df.text.values)"
   ]
  },
  {
   "cell_type": "code",
   "execution_count": 48,
   "id": "9d2375b4",
   "metadata": {},
   "outputs": [
    {
     "name": "stderr",
     "output_type": "stream",
     "text": [
      "31it [00:01, 15.51it/s]\n"
     ]
    },
    {
     "name": "stdout",
     "output_type": "stream",
     "text": [
      "pro:\n",
      "ailleurs: 0.14213381090373947\n",
      "capital: 0.14213381090373947\n",
      "raison: 0.14213381090373947\n",
      "caractère: 0.1184448424197829\n",
      "conditions: 0.1184448424197829\n",
      "poste: 0.1184448424197829\n",
      "élection: 0.1184448424197829\n",
      "action: 0.09475587393582632\n",
      "choses: 0.09475587393582632\n",
      "convention: 0.09475587393582632\n",
      "\n",
      "anti:\n",
      "vota: 0.3821610563931606\n",
      "art: 0.2605643566317004\n",
      "démocratique: 0.10422574265268017\n",
      "honneur: 0.10422574265268017\n",
      "élément: 0.10422574265268017\n",
      "complémentaires: 0.08685478554390015\n",
      "décrets: 0.08685478554390015\n",
      "lit: 0.08685478554390015\n",
      "temps: 0.08685478554390015\n",
      "administration: 0.06948382843512012\n",
      "\n"
     ]
    }
   ],
   "source": [
    "tfidf_words(['comité de salut public'])"
   ]
  },
  {
   "cell_type": "code",
   "execution_count": 39,
   "id": "d676d67f",
   "metadata": {},
   "outputs": [
    {
     "name": "stderr",
     "output_type": "stream",
     "text": [
      "31it [00:02, 12.77it/s]\n"
     ]
    },
    {
     "data": {
      "text/html": [
       "<div>\n",
       "<style scoped>\n",
       "    .dataframe tbody tr th:only-of-type {\n",
       "        vertical-align: middle;\n",
       "    }\n",
       "\n",
       "    .dataframe tbody tr th {\n",
       "        vertical-align: top;\n",
       "    }\n",
       "\n",
       "    .dataframe thead th {\n",
       "        text-align: right;\n",
       "    }\n",
       "</style>\n",
       "<table border=\"1\" class=\"dataframe\">\n",
       "  <thead>\n",
       "    <tr style=\"text-align: right;\">\n",
       "      <th></th>\n",
       "      <th>filename</th>\n",
       "      <th>memoir_len_sans_sb_pb</th>\n",
       "      <th>bias</th>\n",
       "      <th>woi</th>\n",
       "      <th>woi_location</th>\n",
       "      <th>extraction_method</th>\n",
       "      <th>text</th>\n",
       "    </tr>\n",
       "  </thead>\n",
       "  <tbody>\n",
       "    <tr>\n",
       "      <th>0</th>\n",
       "      <td>andre_leo.txt</td>\n",
       "      <td>10365</td>\n",
       "      <td>pro</td>\n",
       "      <td>salut public</td>\n",
       "      <td>171</td>\n",
       "      <td>&lt;sb&gt;</td>\n",
       "      <td>&lt;sb&gt; ce sont ces échappés de collège qui, n’ay...</td>\n",
       "    </tr>\n",
       "    <tr>\n",
       "      <th>1</th>\n",
       "      <td>arnould_2.txt</td>\n",
       "      <td>43978</td>\n",
       "      <td>pro</td>\n",
       "      <td>salut public</td>\n",
       "      <td>30</td>\n",
       "      <td>&lt;sb&gt;</td>\n",
       "      <td>&lt;pb&gt; le vote sur le comité de salut public est...</td>\n",
       "    </tr>\n",
       "    <tr>\n",
       "      <th>2</th>\n",
       "      <td>arnould_2.txt</td>\n",
       "      <td>43978</td>\n",
       "      <td>pro</td>\n",
       "      <td>salut public</td>\n",
       "      <td>253</td>\n",
       "      <td>&lt;sb&gt;</td>\n",
       "      <td>&lt;pb&gt; en parlant de la minorité et de la majori...</td>\n",
       "    </tr>\n",
       "    <tr>\n",
       "      <th>3</th>\n",
       "      <td>arnould_2.txt</td>\n",
       "      <td>43978</td>\n",
       "      <td>pro</td>\n",
       "      <td>salut public</td>\n",
       "      <td>157</td>\n",
       "      <td>&lt;sb&gt;</td>\n",
       "      <td>&lt;pb&gt; eh bien, ni le décret sur les otages, qua...</td>\n",
       "    </tr>\n",
       "    <tr>\n",
       "      <th>4</th>\n",
       "      <td>arnould_2.txt</td>\n",
       "      <td>43978</td>\n",
       "      <td>pro</td>\n",
       "      <td>salut public</td>\n",
       "      <td>79</td>\n",
       "      <td>&lt;sb&gt;</td>\n",
       "      <td>&lt;pb&gt; — non pas que je mîsse mes idées personne...</td>\n",
       "    </tr>\n",
       "    <tr>\n",
       "      <th>...</th>\n",
       "      <td>...</td>\n",
       "      <td>...</td>\n",
       "      <td>...</td>\n",
       "      <td>...</td>\n",
       "      <td>...</td>\n",
       "      <td>...</td>\n",
       "      <td>...</td>\n",
       "    </tr>\n",
       "    <tr>\n",
       "      <th>540</th>\n",
       "      <td>rodrigues.txt</td>\n",
       "      <td>58363</td>\n",
       "      <td>anti</td>\n",
       "      <td>salut public</td>\n",
       "      <td>18</td>\n",
       "      <td>&lt;sb&gt;</td>\n",
       "      <td>&lt;pb&gt; le comité de salut public, ant. &lt;sb&gt;</td>\n",
       "    </tr>\n",
       "    <tr>\n",
       "      <th>541</th>\n",
       "      <td>rodrigues.txt</td>\n",
       "      <td>58363</td>\n",
       "      <td>anti</td>\n",
       "      <td>salut public</td>\n",
       "      <td>18</td>\n",
       "      <td>&lt;sb&gt;</td>\n",
       "      <td>&lt;pb&gt; le comité de salut public autorise les ch...</td>\n",
       "    </tr>\n",
       "    <tr>\n",
       "      <th>542</th>\n",
       "      <td>rodrigues.txt</td>\n",
       "      <td>58363</td>\n",
       "      <td>anti</td>\n",
       "      <td>salut public</td>\n",
       "      <td>29</td>\n",
       "      <td>&lt;sb&gt;</td>\n",
       "      <td>&lt;pb&gt; le membre dzc comité du salut public, g. ...</td>\n",
       "    </tr>\n",
       "    <tr>\n",
       "      <th>543</th>\n",
       "      <td>rodrigues.txt</td>\n",
       "      <td>58363</td>\n",
       "      <td>anti</td>\n",
       "      <td>salut public</td>\n",
       "      <td>18</td>\n",
       "      <td>&lt;sb&gt;</td>\n",
       "      <td>&lt;pb&gt; le comité de salut public, installé dans ...</td>\n",
       "    </tr>\n",
       "    <tr>\n",
       "      <th>544</th>\n",
       "      <td>rodrigues.txt</td>\n",
       "      <td>58363</td>\n",
       "      <td>anti</td>\n",
       "      <td>salut public</td>\n",
       "      <td>104</td>\n",
       "      <td>&lt;sb&gt;</td>\n",
       "      <td>&lt;sb&gt; l'armée de m-^fiiets aura à reprendre les...</td>\n",
       "    </tr>\n",
       "  </tbody>\n",
       "</table>\n",
       "<p>545 rows × 7 columns</p>\n",
       "</div>"
      ],
      "text/plain": [
       "          filename  memoir_len_sans_sb_pb  bias           woi  woi_location   \n",
       "0    andre_leo.txt                  10365   pro  salut public           171  \\\n",
       "1    arnould_2.txt                  43978   pro  salut public            30   \n",
       "2    arnould_2.txt                  43978   pro  salut public           253   \n",
       "3    arnould_2.txt                  43978   pro  salut public           157   \n",
       "4    arnould_2.txt                  43978   pro  salut public            79   \n",
       "..             ...                    ...   ...           ...           ...   \n",
       "540  rodrigues.txt                  58363  anti  salut public            18   \n",
       "541  rodrigues.txt                  58363  anti  salut public            18   \n",
       "542  rodrigues.txt                  58363  anti  salut public            29   \n",
       "543  rodrigues.txt                  58363  anti  salut public            18   \n",
       "544  rodrigues.txt                  58363  anti  salut public           104   \n",
       "\n",
       "    extraction_method                                               text  \n",
       "0                <sb>  <sb> ce sont ces échappés de collège qui, n’ay...  \n",
       "1                <sb>  <pb> le vote sur le comité de salut public est...  \n",
       "2                <sb>  <pb> en parlant de la minorité et de la majori...  \n",
       "3                <sb>  <pb> eh bien, ni le décret sur les otages, qua...  \n",
       "4                <sb>  <pb> — non pas que je mîsse mes idées personne...  \n",
       "..                ...                                                ...  \n",
       "540              <sb>          <pb> le comité de salut public, ant. <sb>  \n",
       "541              <sb>  <pb> le comité de salut public autorise les ch...  \n",
       "542              <sb>  <pb> le membre dzc comité du salut public, g. ...  \n",
       "543              <sb>  <pb> le comité de salut public, installé dans ...  \n",
       "544              <sb>  <sb> l'armée de m-^fiiets aura à reprendre les...  \n",
       "\n",
       "[545 rows x 7 columns]"
      ]
     },
     "execution_count": 39,
     "metadata": {},
     "output_type": "execute_result"
    }
   ],
   "source": [
    "woi = extract_woi_context(data, ['salut public'], \"<sb>\")\n",
    "filtered_df = woi[woi['woi'] == 'comité du salut public']\n",
    "woi"
   ]
  },
  {
   "cell_type": "code",
   "execution_count": 44,
   "id": "4b358d28",
   "metadata": {
    "scrolled": false
   },
   "outputs": [
    {
     "name": "stderr",
     "output_type": "stream",
     "text": [
      "31it [00:01, 23.03it/s]\n"
     ]
    },
    {
     "data": {
      "text/plain": [
       "[\"<pb> « des piques, des haches, des sabres nus, fles couperets et des marteaux ; « la cité morne et silencieuse ; la police au foyer de famille, les opinions suspectées, les paroles écoutées, les larmes observées, les soupirs comptés, le silence épié, l'espionnage et les dénonciations ;- « les réquisitions inexorables, les emprunts forcés et progressifs, le papier monnaie déprécié ; « hs guerre civile, et l'étranger sur les frontières ; « les proconsùlats impitoyables, le comité de salut public, un comité suprême au cœur d'airain ; c voilà les fruits de la révolution dite démocratique et sociale. \",\n",
       " '<sb> proudhon le disait en 1849, — proudhon l’ami de delesluze et qui conspirait alors avec lui.— «ce qu’il faut, écrivait-1l, à la révolution démocratique et ” sociale (journal de delescluze), c’est une perpéuelle et fatigante agitation qui, éclatant tout à coup, se termine par la création d’un comité de salut public, où certains patriotes trouvent une occupation digne de‘leur génie. <sb>',\n",
       " '<sb> » : il s’abstint dans le vote pour le comité de salut public, dont il déclara la création impräicable et formula ainsi son abstention : « considérant que le comité de salut pulic est une institution dictatoriale incompatible avec le principe essentiellement - démocratique de la commune, je déclare ne pas prendre part ÿ 122 les membres de la commune. ',\n",
       " '<sb> avant de se consacrer à ces futilités bonnes à préoccuper des esprits sans horizon, il fallait établir un bon gouvernement, bien démocratique et superlativement social ; installer un comité de salut public, ouvrir un tribunal révolutionnaire, proclamer la terreur, choisir blanqui pour dictateur et nommer émile-désiré-françois eudes général en chef des armées de la république. <sb>',\n",
       " '<pb> considérant que le comité de salut public est une institution dictatoriale incompatible avec le principe essentiellement démocratique de la commune, je déclare de 1871. ',\n",
       " \"<sb> une multitude déchaînée, armée, ivre de vengeance et de fureur; « des piques, des haches, des sabres nus, des couperets et des marteaux « la cité morne et silencieuse; la police au foyer de famille, les opinions suspectées, les paroles écoutées, les larmes observées, les soupirs comptés, le silence épié, l'espionnage et les dénonciations « les réquisitions inexorables, les emprunts forcés et progressifs, le papier-monnaie déprécié; « la guerre civile et l'étranger sur les frontières «les proconsulats impitoyables, le comité de salut public, un comité suprême au coeur d'airain c voilà les fruits de la révolution dite démocratique et sociale. \"]"
      ]
     },
     "execution_count": 44,
     "metadata": {},
     "output_type": "execute_result"
    }
   ],
   "source": [
    "woi = extract_woi_context(data, ['comité de salut public', 'comité du salut public'], \"<sb>\")\n",
    "filtered_df = woi[woi['text'].str.contains('démocrat')]\n",
    "list(filtered_df.text.values)"
   ]
  },
  {
   "cell_type": "code",
   "execution_count": 43,
   "id": "56ae2f37",
   "metadata": {},
   "outputs": [
    {
     "data": {
      "text/html": [
       "<div>\n",
       "<style scoped>\n",
       "    .dataframe tbody tr th:only-of-type {\n",
       "        vertical-align: middle;\n",
       "    }\n",
       "\n",
       "    .dataframe tbody tr th {\n",
       "        vertical-align: top;\n",
       "    }\n",
       "\n",
       "    .dataframe thead th {\n",
       "        text-align: right;\n",
       "    }\n",
       "</style>\n",
       "<table border=\"1\" class=\"dataframe\">\n",
       "  <thead>\n",
       "    <tr style=\"text-align: right;\">\n",
       "      <th></th>\n",
       "      <th>filename</th>\n",
       "      <th>memoir_len_sans_sb_pb</th>\n",
       "      <th>bias</th>\n",
       "      <th>woi</th>\n",
       "      <th>woi_location</th>\n",
       "      <th>extraction_method</th>\n",
       "      <th>text</th>\n",
       "    </tr>\n",
       "  </thead>\n",
       "  <tbody>\n",
       "    <tr>\n",
       "      <th>180</th>\n",
       "      <td>arsac.txt</td>\n",
       "      <td>141550</td>\n",
       "      <td>anti</td>\n",
       "      <td>comité de salut public</td>\n",
       "      <td>476</td>\n",
       "      <td>&lt;sb&gt;</td>\n",
       "      <td>&lt;pb&gt; « des piques, des haches, des sabres nus,...</td>\n",
       "    </tr>\n",
       "    <tr>\n",
       "      <th>239</th>\n",
       "      <td>bourde.txt</td>\n",
       "      <td>88824</td>\n",
       "      <td>anti</td>\n",
       "      <td>comité de salut public</td>\n",
       "      <td>297</td>\n",
       "      <td>&lt;sb&gt;</td>\n",
       "      <td>&lt;sb&gt; proudhon le disait en 1849, — proudhon l’...</td>\n",
       "    </tr>\n",
       "    <tr>\n",
       "      <th>251</th>\n",
       "      <td>bourde.txt</td>\n",
       "      <td>88824</td>\n",
       "      <td>anti</td>\n",
       "      <td>comité de salut public</td>\n",
       "      <td>43</td>\n",
       "      <td>&lt;sb&gt;</td>\n",
       "      <td>&lt;sb&gt; » : il s’abstint dans le vote pour le com...</td>\n",
       "    </tr>\n",
       "    <tr>\n",
       "      <th>290</th>\n",
       "      <td>du_camp_1.txt</td>\n",
       "      <td>118984</td>\n",
       "      <td>anti</td>\n",
       "      <td>comité de salut public</td>\n",
       "      <td>188</td>\n",
       "      <td>&lt;sb&gt;</td>\n",
       "      <td>&lt;sb&gt; avant de se consacrer à ces futilités bon...</td>\n",
       "    </tr>\n",
       "    <tr>\n",
       "      <th>399</th>\n",
       "      <td>fayard.txt</td>\n",
       "      <td>193091</td>\n",
       "      <td>anti</td>\n",
       "      <td>comité de salut public</td>\n",
       "      <td>24</td>\n",
       "      <td>&lt;sb&gt;</td>\n",
       "      <td>&lt;pb&gt; considérant que le comité de salut public...</td>\n",
       "    </tr>\n",
       "    <tr>\n",
       "      <th>432</th>\n",
       "      <td>hennebert.txt</td>\n",
       "      <td>77304</td>\n",
       "      <td>anti</td>\n",
       "      <td>comité de salut public</td>\n",
       "      <td>528</td>\n",
       "      <td>&lt;sb&gt;</td>\n",
       "      <td>&lt;sb&gt; une multitude déchaînée, armée, ivre de v...</td>\n",
       "    </tr>\n",
       "  </tbody>\n",
       "</table>\n",
       "</div>"
      ],
      "text/plain": [
       "          filename  memoir_len_sans_sb_pb  bias                     woi   \n",
       "180      arsac.txt                 141550  anti  comité de salut public  \\\n",
       "239     bourde.txt                  88824  anti  comité de salut public   \n",
       "251     bourde.txt                  88824  anti  comité de salut public   \n",
       "290  du_camp_1.txt                 118984  anti  comité de salut public   \n",
       "399     fayard.txt                 193091  anti  comité de salut public   \n",
       "432  hennebert.txt                  77304  anti  comité de salut public   \n",
       "\n",
       "     woi_location extraction_method   \n",
       "180           476              <sb>  \\\n",
       "239           297              <sb>   \n",
       "251            43              <sb>   \n",
       "290           188              <sb>   \n",
       "399            24              <sb>   \n",
       "432           528              <sb>   \n",
       "\n",
       "                                                  text  \n",
       "180  <pb> « des piques, des haches, des sabres nus,...  \n",
       "239  <sb> proudhon le disait en 1849, — proudhon l’...  \n",
       "251  <sb> » : il s’abstint dans le vote pour le com...  \n",
       "290  <sb> avant de se consacrer à ces futilités bon...  \n",
       "399  <pb> considérant que le comité de salut public...  \n",
       "432  <sb> une multitude déchaînée, armée, ivre de v...  "
      ]
     },
     "execution_count": 43,
     "metadata": {},
     "output_type": "execute_result"
    }
   ],
   "source": [
    "filtered_df"
   ]
  },
  {
   "cell_type": "code",
   "execution_count": 45,
   "id": "50dbc6e9",
   "metadata": {},
   "outputs": [
    {
     "name": "stderr",
     "output_type": "stream",
     "text": [
      "31it [00:01, 30.98it/s]\n"
     ]
    },
    {
     "name": "stdout",
     "output_type": "stream",
     "text": [
      "pro:\n",
      "déportation: 0.1417985101042947\n",
      "garde: 0.1417985101042947\n",
      "guerre: 0.12407369634125787\n",
      "mt: 0.12407369634125787\n",
      "peine: 0.12407369634125787\n",
      "tt: 0.12407369634125787\n",
      "jour: 0.10634888257822102\n",
      "jamais: 0.0886240688151842\n",
      "mhe: 0.0886240688151842\n",
      "nationale: 0.0886240688151842\n",
      "\n",
      "anti:\n",
      "canons: 0.55942688102005\n",
      "rayés: 0.3846059807012843\n",
      "siège: 0.20978508038251872\n",
      "ouest: 0.10489254019125936\n",
      "troupes: 0.10489254019125936\n",
      "aller: 0.06992836012750625\n",
      "boulevards: 0.06992836012750625\n",
      "chevaux: 0.06992836012750625\n",
      "châtillon: 0.06992836012750625\n",
      "genève: 0.06992836012750625\n",
      "\n"
     ]
    }
   ],
   "source": [
    "tfidf_words(['!'])"
   ]
  },
  {
   "cell_type": "code",
   "execution_count": 46,
   "id": "02bfa093",
   "metadata": {
    "scrolled": true
   },
   "outputs": [
    {
     "name": "stderr",
     "output_type": "stream",
     "text": [
      "31it [00:01, 30.77it/s]\n"
     ]
    },
    {
     "data": {
      "text/plain": [
       "[\"<sb> ftmoy, le f<o, .pamtkm, pr~~em~ du <yom!ke- tmemt, .apures <'<î'ampëres, 7!t(eftcmf, jus- ttcc et ~atre paris. \",\n",
       " \"<sb> ftmoy, le f<o, .pamtkm, pr~~em~ du <yom!ke- tmemt, .apures <'<î'ampëres, 7!t(eftcmf, jus- ttcc et ~atre paris. \",\n",
       " \"<pb> « ~<<' de paris à préfet de police, général vtmo!ekë<'a~ef<d,/mmrtemt',prmtdemt du ~om~rmem~m~. \",\n",
       " \"<sb> il représente le yomi!cfketm~mt insurrectionnel; moi, je suis mmë 6m<m«<!ok du <yomt~'methëm( )'ë<ym<te?';j'em nommé adjoint par un vote légal il ne sera pas touché à un cheveu de la tète du général chanzy et de m. <sb>\",\n",
       " \"<sb> (très bien tr~ bien v~m marques d'adhésion et (['approbation.) et il continue par cette calomnie « comment paris, qui afficherait aujourd'hui la ~t~~m<!erep)'~em!tom t'tt're seul et de se séparer de ce qu'il appelle la prov~'ce, les kunaux, comme on le dit .bfat;9/~pp<amc!tmemfmts); comment, messieurs, pari.pourrait-il soutenir un seul instant cette erreur politique, économique et sociale. \",\n",
       " \"<sb> (très bien tr~ bien v~m marques d'adhésion et (['approbation.) et il continue par cette calomnie « comment paris, qui afficherait aujourd'hui la ~t~~m<!erep)'~em!tom t'tt're seul et de se séparer de ce qu'il appelle la prov~'ce, les kunaux, comme on le dit .bfat;9/~pp<amc!tmemfmts); comment, messieurs, pari.pourrait-il soutenir un seul instant cette erreur politique, économique et sociale. \",\n",
       " \"<pb> [i n'en est pas moins vrai que les représentants de paris wftrem< encore c~/e/ot~e~m~nth~otma cacher aux pa)'!s!e?ts tout ce qui se trammtt a ~s<m«m, non sem~hemfco«<repar:s,wa~emcof'eeo?:e<6[nepm~<t~me. nous arrivons ainsi à l'apogée de toutes ces intrigues. <sb>\",\n",
       " \"<sb> umité,~m'c«ed!ëpasmtf; 2° parce que, dès te début, il lui manqua jusqu'à 120 f'eprcsentants sur 768 3° parce qu'cnnn, nombre des représentants proc~'hf f~fs)mefe<atck<petsemr<a<!(ë. \",\n",
       " \"<pb> vo<httb:.16,765 .~mt)'e;l.\\\\t7lmta!t(~ dubail. <sb>\",\n",
       " \"<pb> « le pj!é5ident(d6st~h(!mtfen'ë).–est-ce celui-ci? <sb>\",\n",
       " \"<pb> 3'dtm!f<mtd't)t/<mt<efte.'généra)demontacdon. \",\n",
       " \"!somma'~e /'mt-t< ~et'~mm, les p~ms ~<j<tttmes semttmemt~ de co~e et de ~<o<te je me pes~e pas, et, tomt pe~ë; cro~ ~me mtom ëh<0<<oh &t6m m~m/e he ~sm?y<~ mm~'e à /s ~a~mr o~'ec~fe de moh e~brt vers la përtm. \",\n",
       " \"<sb> a mon ehfaomstfmme !r/'c~eat de la mm~'eme a~mec, s'est s?t~tthtec mhe foi /'stsomh.~e em la )'~o~mtto?t sociale ~mt ~e~rëp6;?'e,ka~, ~me ~c~mf~e~'y <o?mpepas.' après a!on' htttë etpasm&~)eht som~ert, je n'ai ~a)'(<e am ca'mr aucune haine co?t<)'e nos mt'h~mem~s, ik~t~t~m6~e)h<?k~'«~a< f<<!commc6 ~mc~ savais de ~m~' action t'eacttohha~'e, ahtw~)m~tc6hme, <!m<t-~6[<r<o~e et ahtt-socta~e, non pas en homme qui cr!'e vengeance, mais f~mtdt emao)khte qui o'te casse-cou, et ~mt apprécie, m~e~tomk~ si t'oh oemf pa)' mme foi persistante ~am~ ~'<!<m! de la révolution sociale. \",\n",
       " \"<pb> âm ~cctem~' maintenant de ~'m~e;' ~acttok réactionnaire et <'c!cttok ?'et'o<mttohm~'e aux pr~es, à cette époque ~tpro/'cm~e~eht <om~ëe e<ntccohhme~6 m0t;'c at'sfon'e com~)hpo)'athc. gaston da costa. \",\n",
       " \"<pb> après avoir quitté l'fmtn!mskyeaht,-à la suite d'une querelle entre rédacteurs, il quitta la france et se rendit au soudan; comme représentant du temps et du fkjwo, et muni de chaleureuses recommandations auprès du madhi,- alors en lutte avec l'angleterre. <sb>\",\n",
       " \"<sb> on ne peut pourtant pas répondre à toutes les affiches de la commune de paris! (un certain t!0)n6;'e de represeh<tmt~ eh<om)'e<~ le m<mm~'6 la cm<'r/ ) « m. <sb>\",\n",
       " \"<pb> (m~.<est'ep)-eschtamt!i se nuseyeht, et le calme se f<~<!<~tt peu à peu.) « m. <sb>\",\n",
       " \"<pb> l'assemblée vota l'ordre du jour sur la première partie de la question et la question préa!ab)e pour la seconde, celle qui rappelait aux versaillais que leur tâche était <e<jfa~mtemt terminée. \"]"
      ]
     },
     "execution_count": 46,
     "metadata": {},
     "output_type": "execute_result"
    }
   ],
   "source": [
    "woi = extract_woi_context(data, ['!'], \"<sb>\")\n",
    "filtered_df = woi[woi['text'].str.contains('mt')]\n",
    "list(filtered_df.text.values)"
   ]
  },
  {
   "cell_type": "code",
   "execution_count": 47,
   "id": "0ba6f858",
   "metadata": {},
   "outputs": [
    {
     "data": {
      "text/html": [
       "<div>\n",
       "<style scoped>\n",
       "    .dataframe tbody tr th:only-of-type {\n",
       "        vertical-align: middle;\n",
       "    }\n",
       "\n",
       "    .dataframe tbody tr th {\n",
       "        vertical-align: top;\n",
       "    }\n",
       "\n",
       "    .dataframe thead th {\n",
       "        text-align: right;\n",
       "    }\n",
       "</style>\n",
       "<table border=\"1\" class=\"dataframe\">\n",
       "  <thead>\n",
       "    <tr style=\"text-align: right;\">\n",
       "      <th></th>\n",
       "      <th>filename</th>\n",
       "      <th>memoir_len_sans_sb_pb</th>\n",
       "      <th>bias</th>\n",
       "      <th>woi</th>\n",
       "      <th>woi_location</th>\n",
       "      <th>extraction_method</th>\n",
       "      <th>text</th>\n",
       "    </tr>\n",
       "  </thead>\n",
       "  <tbody>\n",
       "    <tr>\n",
       "      <th>25</th>\n",
       "      <td>da_costa_1.txt</td>\n",
       "      <td>122048</td>\n",
       "      <td>pro</td>\n",
       "      <td>!</td>\n",
       "      <td>44</td>\n",
       "      <td>&lt;sb&gt;</td>\n",
       "      <td>&lt;sb&gt; ftmoy, le f&lt;o, .pamtkm, pr~~em~ du &lt;yom!k...</td>\n",
       "    </tr>\n",
       "    <tr>\n",
       "      <th>26</th>\n",
       "      <td>da_costa_1.txt</td>\n",
       "      <td>122048</td>\n",
       "      <td>pro</td>\n",
       "      <td>!</td>\n",
       "      <td>79</td>\n",
       "      <td>&lt;sb&gt;</td>\n",
       "      <td>&lt;sb&gt; ftmoy, le f&lt;o, .pamtkm, pr~~em~ du &lt;yom!k...</td>\n",
       "    </tr>\n",
       "    <tr>\n",
       "      <th>27</th>\n",
       "      <td>da_costa_1.txt</td>\n",
       "      <td>122048</td>\n",
       "      <td>pro</td>\n",
       "      <td>!</td>\n",
       "      <td>53</td>\n",
       "      <td>&lt;sb&gt;</td>\n",
       "      <td>&lt;pb&gt; « ~&lt;&lt;' de paris à préfet de police, génér...</td>\n",
       "    </tr>\n",
       "    <tr>\n",
       "      <th>35</th>\n",
       "      <td>da_costa_1.txt</td>\n",
       "      <td>122048</td>\n",
       "      <td>pro</td>\n",
       "      <td>!</td>\n",
       "      <td>26</td>\n",
       "      <td>&lt;sb&gt;</td>\n",
       "      <td>&lt;sb&gt; il représente le yomi!cfketm~mt insurrect...</td>\n",
       "    </tr>\n",
       "    <tr>\n",
       "      <th>37</th>\n",
       "      <td>da_costa_1.txt</td>\n",
       "      <td>122048</td>\n",
       "      <td>pro</td>\n",
       "      <td>!</td>\n",
       "      <td>166</td>\n",
       "      <td>&lt;sb&gt;</td>\n",
       "      <td>&lt;sb&gt; (très bien tr~ bien v~m marques d'adhésio...</td>\n",
       "    </tr>\n",
       "    <tr>\n",
       "      <th>38</th>\n",
       "      <td>da_costa_1.txt</td>\n",
       "      <td>122048</td>\n",
       "      <td>pro</td>\n",
       "      <td>!</td>\n",
       "      <td>277</td>\n",
       "      <td>&lt;sb&gt;</td>\n",
       "      <td>&lt;sb&gt; (très bien tr~ bien v~m marques d'adhésio...</td>\n",
       "    </tr>\n",
       "    <tr>\n",
       "      <th>40</th>\n",
       "      <td>da_costa_1.txt</td>\n",
       "      <td>122048</td>\n",
       "      <td>pro</td>\n",
       "      <td>!</td>\n",
       "      <td>116</td>\n",
       "      <td>&lt;sb&gt;</td>\n",
       "      <td>&lt;pb&gt; [i n'en est pas moins vrai que les représ...</td>\n",
       "    </tr>\n",
       "    <tr>\n",
       "      <th>41</th>\n",
       "      <td>da_costa_1.txt</td>\n",
       "      <td>122048</td>\n",
       "      <td>pro</td>\n",
       "      <td>!</td>\n",
       "      <td>18</td>\n",
       "      <td>&lt;sb&gt;</td>\n",
       "      <td>&lt;sb&gt; umité,~m'c«ed!ëpasmtf; 2° parce que, dès ...</td>\n",
       "    </tr>\n",
       "    <tr>\n",
       "      <th>45</th>\n",
       "      <td>da_costa_1.txt</td>\n",
       "      <td>122048</td>\n",
       "      <td>pro</td>\n",
       "      <td>!</td>\n",
       "      <td>38</td>\n",
       "      <td>&lt;sb&gt;</td>\n",
       "      <td>&lt;pb&gt; vo&lt;httb:.16,765 .~mt)'e;l.\\t7lmta!t(~ dub...</td>\n",
       "    </tr>\n",
       "    <tr>\n",
       "      <th>59</th>\n",
       "      <td>da_costa_2.txt</td>\n",
       "      <td>62863</td>\n",
       "      <td>pro</td>\n",
       "      <td>!</td>\n",
       "      <td>12</td>\n",
       "      <td>&lt;sb&gt;</td>\n",
       "      <td>&lt;pb&gt; « le pj!é5ident(d6st~h(!mtfen'ë).–est-ce ...</td>\n",
       "    </tr>\n",
       "    <tr>\n",
       "      <th>65</th>\n",
       "      <td>da_costa_2.txt</td>\n",
       "      <td>62863</td>\n",
       "      <td>pro</td>\n",
       "      <td>!</td>\n",
       "      <td>10</td>\n",
       "      <td>&lt;sb&gt;</td>\n",
       "      <td>&lt;pb&gt; 3'dtm!f&lt;mtd't)t/&lt;mt&lt;efte.'généra)demontac...</td>\n",
       "    </tr>\n",
       "    <tr>\n",
       "      <th>75</th>\n",
       "      <td>da_costa_3.txt</td>\n",
       "      <td>93096</td>\n",
       "      <td>pro</td>\n",
       "      <td>!</td>\n",
       "      <td>0</td>\n",
       "      <td>&lt;sb&gt;</td>\n",
       "      <td>!somma'~e /'mt-t&lt; ~et'~mm, les p~ms ~&lt;j&lt;tttmes...</td>\n",
       "    </tr>\n",
       "    <tr>\n",
       "      <th>76</th>\n",
       "      <td>da_costa_3.txt</td>\n",
       "      <td>93096</td>\n",
       "      <td>pro</td>\n",
       "      <td>!</td>\n",
       "      <td>173</td>\n",
       "      <td>&lt;sb&gt;</td>\n",
       "      <td>&lt;sb&gt; a mon ehfaomstfmme !r/'c~eat de la mm~'em...</td>\n",
       "    </tr>\n",
       "    <tr>\n",
       "      <th>77</th>\n",
       "      <td>da_costa_3.txt</td>\n",
       "      <td>93096</td>\n",
       "      <td>pro</td>\n",
       "      <td>!</td>\n",
       "      <td>67</td>\n",
       "      <td>&lt;sb&gt;</td>\n",
       "      <td>&lt;pb&gt; âm ~cctem~' maintenant de ~'m~e;' ~acttok...</td>\n",
       "    </tr>\n",
       "    <tr>\n",
       "      <th>96</th>\n",
       "      <td>da_costa_3.txt</td>\n",
       "      <td>93096</td>\n",
       "      <td>pro</td>\n",
       "      <td>!</td>\n",
       "      <td>30</td>\n",
       "      <td>&lt;sb&gt;</td>\n",
       "      <td>&lt;pb&gt; après avoir quitté l'fmtn!mskyeaht,-à la ...</td>\n",
       "    </tr>\n",
       "    <tr>\n",
       "      <th>114</th>\n",
       "      <td>da_costa_3.txt</td>\n",
       "      <td>93096</td>\n",
       "      <td>pro</td>\n",
       "      <td>!</td>\n",
       "      <td>97</td>\n",
       "      <td>&lt;sb&gt;</td>\n",
       "      <td>&lt;sb&gt; on ne peut pourtant pas répondre à toutes...</td>\n",
       "    </tr>\n",
       "    <tr>\n",
       "      <th>116</th>\n",
       "      <td>da_costa_3.txt</td>\n",
       "      <td>93096</td>\n",
       "      <td>pro</td>\n",
       "      <td>!</td>\n",
       "      <td>26</td>\n",
       "      <td>&lt;sb&gt;</td>\n",
       "      <td>&lt;pb&gt; (m~.&lt;est'ep)-eschtamt!i se nuseyeht, et l...</td>\n",
       "    </tr>\n",
       "    <tr>\n",
       "      <th>119</th>\n",
       "      <td>da_costa_3.txt</td>\n",
       "      <td>93096</td>\n",
       "      <td>pro</td>\n",
       "      <td>!</td>\n",
       "      <td>95</td>\n",
       "      <td>&lt;sb&gt;</td>\n",
       "      <td>&lt;pb&gt; l'assemblée vota l'ordre du jour sur la p...</td>\n",
       "    </tr>\n",
       "  </tbody>\n",
       "</table>\n",
       "</div>"
      ],
      "text/plain": [
       "           filename  memoir_len_sans_sb_pb bias woi  woi_location   \n",
       "25   da_costa_1.txt                 122048  pro   !            44  \\\n",
       "26   da_costa_1.txt                 122048  pro   !            79   \n",
       "27   da_costa_1.txt                 122048  pro   !            53   \n",
       "35   da_costa_1.txt                 122048  pro   !            26   \n",
       "37   da_costa_1.txt                 122048  pro   !           166   \n",
       "38   da_costa_1.txt                 122048  pro   !           277   \n",
       "40   da_costa_1.txt                 122048  pro   !           116   \n",
       "41   da_costa_1.txt                 122048  pro   !            18   \n",
       "45   da_costa_1.txt                 122048  pro   !            38   \n",
       "59   da_costa_2.txt                  62863  pro   !            12   \n",
       "65   da_costa_2.txt                  62863  pro   !            10   \n",
       "75   da_costa_3.txt                  93096  pro   !             0   \n",
       "76   da_costa_3.txt                  93096  pro   !           173   \n",
       "77   da_costa_3.txt                  93096  pro   !            67   \n",
       "96   da_costa_3.txt                  93096  pro   !            30   \n",
       "114  da_costa_3.txt                  93096  pro   !            97   \n",
       "116  da_costa_3.txt                  93096  pro   !            26   \n",
       "119  da_costa_3.txt                  93096  pro   !            95   \n",
       "\n",
       "    extraction_method                                               text  \n",
       "25               <sb>  <sb> ftmoy, le f<o, .pamtkm, pr~~em~ du <yom!k...  \n",
       "26               <sb>  <sb> ftmoy, le f<o, .pamtkm, pr~~em~ du <yom!k...  \n",
       "27               <sb>  <pb> « ~<<' de paris à préfet de police, génér...  \n",
       "35               <sb>  <sb> il représente le yomi!cfketm~mt insurrect...  \n",
       "37               <sb>  <sb> (très bien tr~ bien v~m marques d'adhésio...  \n",
       "38               <sb>  <sb> (très bien tr~ bien v~m marques d'adhésio...  \n",
       "40               <sb>  <pb> [i n'en est pas moins vrai que les représ...  \n",
       "41               <sb>  <sb> umité,~m'c«ed!ëpasmtf; 2° parce que, dès ...  \n",
       "45               <sb>  <pb> vo<httb:.16,765 .~mt)'e;l.\\t7lmta!t(~ dub...  \n",
       "59               <sb>  <pb> « le pj!é5ident(d6st~h(!mtfen'ë).–est-ce ...  \n",
       "65               <sb>  <pb> 3'dtm!f<mtd't)t/<mt<efte.'généra)demontac...  \n",
       "75               <sb>  !somma'~e /'mt-t< ~et'~mm, les p~ms ~<j<tttmes...  \n",
       "76               <sb>  <sb> a mon ehfaomstfmme !r/'c~eat de la mm~'em...  \n",
       "77               <sb>  <pb> âm ~cctem~' maintenant de ~'m~e;' ~acttok...  \n",
       "96               <sb>  <pb> après avoir quitté l'fmtn!mskyeaht,-à la ...  \n",
       "114              <sb>  <sb> on ne peut pourtant pas répondre à toutes...  \n",
       "116              <sb>  <pb> (m~.<est'ep)-eschtamt!i se nuseyeht, et l...  \n",
       "119              <sb>  <pb> l'assemblée vota l'ordre du jour sur la p...  "
      ]
     },
     "execution_count": 47,
     "metadata": {},
     "output_type": "execute_result"
    }
   ],
   "source": [
    "filtered_df"
   ]
  },
  {
   "cell_type": "code",
   "execution_count": 83,
   "id": "377394bf",
   "metadata": {},
   "outputs": [
    {
     "name": "stderr",
     "output_type": "stream",
     "text": [
      "31it [00:00, 31.26it/s]\n"
     ]
    },
    {
     "data": {
      "text/html": [
       "<div>\n",
       "<style scoped>\n",
       "    .dataframe tbody tr th:only-of-type {\n",
       "        vertical-align: middle;\n",
       "    }\n",
       "\n",
       "    .dataframe tbody tr th {\n",
       "        vertical-align: top;\n",
       "    }\n",
       "\n",
       "    .dataframe thead th {\n",
       "        text-align: right;\n",
       "    }\n",
       "</style>\n",
       "<table border=\"1\" class=\"dataframe\">\n",
       "  <thead>\n",
       "    <tr style=\"text-align: right;\">\n",
       "      <th></th>\n",
       "      <th>filename</th>\n",
       "      <th>memoir_len_sans_sb_pb</th>\n",
       "      <th>bias</th>\n",
       "      <th>woi</th>\n",
       "      <th>woi_location</th>\n",
       "      <th>extraction_method</th>\n",
       "      <th>text</th>\n",
       "    </tr>\n",
       "  </thead>\n",
       "  <tbody>\n",
       "    <tr>\n",
       "      <th>0</th>\n",
       "      <td>beslay.txt</td>\n",
       "      <td>49273</td>\n",
       "      <td>pro</td>\n",
       "      <td>floréal</td>\n",
       "      <td>20</td>\n",
       "      <td>&lt;sb&gt;</td>\n",
       "      <td>&lt;pb&gt; « paris, le 27 floréal an 79.</td>\n",
       "    </tr>\n",
       "    <tr>\n",
       "      <th>1</th>\n",
       "      <td>arsac.txt</td>\n",
       "      <td>141550</td>\n",
       "      <td>anti</td>\n",
       "      <td>floréal</td>\n",
       "      <td>20</td>\n",
       "      <td>&lt;sb&gt;</td>\n",
       "      <td>&lt;pb&gt; « paris, le-16 floréal an 79.</td>\n",
       "    </tr>\n",
       "    <tr>\n",
       "      <th>2</th>\n",
       "      <td>arsac.txt</td>\n",
       "      <td>141550</td>\n",
       "      <td>anti</td>\n",
       "      <td>floréal</td>\n",
       "      <td>20</td>\n",
       "      <td>&lt;sb&gt;</td>\n",
       "      <td>&lt;pb&gt; « paris, le 16 floréal an 79.</td>\n",
       "    </tr>\n",
       "    <tr>\n",
       "      <th>3</th>\n",
       "      <td>arsac.txt</td>\n",
       "      <td>141550</td>\n",
       "      <td>anti</td>\n",
       "      <td>floréal</td>\n",
       "      <td>17</td>\n",
       "      <td>&lt;sb&gt;</td>\n",
       "      <td>&lt;pb&gt; « paris, 21 floréal an 79.</td>\n",
       "    </tr>\n",
       "    <tr>\n",
       "      <th>4</th>\n",
       "      <td>arsac.txt</td>\n",
       "      <td>141550</td>\n",
       "      <td>anti</td>\n",
       "      <td>floréal</td>\n",
       "      <td>29</td>\n",
       "      <td>&lt;sb&gt;</td>\n",
       "      <td>&lt;pb&gt; « hùtfl-de-ville, le 24 floréal an 79. &lt;sb&gt;</td>\n",
       "    </tr>\n",
       "    <tr>\n",
       "      <th>5</th>\n",
       "      <td>arsac.txt</td>\n",
       "      <td>141550</td>\n",
       "      <td>anti</td>\n",
       "      <td>floréal</td>\n",
       "      <td>30</td>\n",
       "      <td>&lt;sb&gt;</td>\n",
       "      <td>&lt;pb&gt; « ilôtel-de-ville, le 25 floréal an 79.</td>\n",
       "    </tr>\n",
       "    <tr>\n",
       "      <th>6</th>\n",
       "      <td>arsac.txt</td>\n",
       "      <td>141550</td>\n",
       "      <td>anti</td>\n",
       "      <td>floréal</td>\n",
       "      <td>20</td>\n",
       "      <td>&lt;sb&gt;</td>\n",
       "      <td>&lt;pb&gt; « paris, le 25 floréal an 79.</td>\n",
       "    </tr>\n",
       "    <tr>\n",
       "      <th>7</th>\n",
       "      <td>arsac.txt</td>\n",
       "      <td>141550</td>\n",
       "      <td>anti</td>\n",
       "      <td>floréal</td>\n",
       "      <td>29</td>\n",
       "      <td>&lt;sb&gt;</td>\n",
       "      <td>&lt;pb&gt; « hôtet-de-ville, le 26 floréal an 79.</td>\n",
       "    </tr>\n",
       "    <tr>\n",
       "      <th>8</th>\n",
       "      <td>arsac.txt</td>\n",
       "      <td>141550</td>\n",
       "      <td>anti</td>\n",
       "      <td>floréal</td>\n",
       "      <td>87</td>\n",
       "      <td>&lt;sb&gt;</td>\n",
       "      <td>&lt;pb&gt; « quatre des coupables sont entre les mai...</td>\n",
       "    </tr>\n",
       "    <tr>\n",
       "      <th>9</th>\n",
       "      <td>arsac.txt</td>\n",
       "      <td>141550</td>\n",
       "      <td>anti</td>\n",
       "      <td>floréal</td>\n",
       "      <td>209</td>\n",
       "      <td>&lt;sb&gt;</td>\n",
       "      <td>&lt;pb&gt; « gardes nationaux! votre choix est fait ...</td>\n",
       "    </tr>\n",
       "    <tr>\n",
       "      <th>10</th>\n",
       "      <td>arsac.txt</td>\n",
       "      <td>141550</td>\n",
       "      <td>anti</td>\n",
       "      <td>floréal</td>\n",
       "      <td>29</td>\n",
       "      <td>&lt;sb&gt;</td>\n",
       "      <td>&lt;pb&gt; « hôtel-de-ville, le 28 floréal an 79.</td>\n",
       "    </tr>\n",
       "    <tr>\n",
       "      <th>11</th>\n",
       "      <td>arsac.txt</td>\n",
       "      <td>141550</td>\n",
       "      <td>anti</td>\n",
       "      <td>floréal</td>\n",
       "      <td>29</td>\n",
       "      <td>&lt;sb&gt;</td>\n",
       "      <td>&lt;pb&gt; « hôtel-de-ville, le 28 floréal an 79.</td>\n",
       "    </tr>\n",
       "    <tr>\n",
       "      <th>12</th>\n",
       "      <td>arsac.txt</td>\n",
       "      <td>141550</td>\n",
       "      <td>anti</td>\n",
       "      <td>floréal</td>\n",
       "      <td>20</td>\n",
       "      <td>&lt;sb&gt;</td>\n",
       "      <td>&lt;pb&gt; « paris, le 29 floréal an 79.</td>\n",
       "    </tr>\n",
       "    <tr>\n",
       "      <th>13</th>\n",
       "      <td>dupont.txt</td>\n",
       "      <td>76206</td>\n",
       "      <td>anti</td>\n",
       "      <td>floréal</td>\n",
       "      <td>50</td>\n",
       "      <td>&lt;sb&gt;</td>\n",
       "      <td>&lt;pb&gt; leur journal officiel, paré de la date du...</td>\n",
       "    </tr>\n",
       "    <tr>\n",
       "      <th>14</th>\n",
       "      <td>du_camp_1.txt</td>\n",
       "      <td>118984</td>\n",
       "      <td>anti</td>\n",
       "      <td>floréal</td>\n",
       "      <td>180</td>\n",
       "      <td>&lt;sb&gt;</td>\n",
       "      <td>&lt;sb&gt; il s'y installa et n'eut que peu de temps...</td>\n",
       "    </tr>\n",
       "    <tr>\n",
       "      <th>15</th>\n",
       "      <td>du_camp_1.txt</td>\n",
       "      <td>118984</td>\n",
       "      <td>anti</td>\n",
       "      <td>floréal</td>\n",
       "      <td>18</td>\n",
       "      <td>&lt;sb&gt;</td>\n",
       "      <td>&lt;sb&gt; paris, le 19 floréal an lxxix. &lt;sb&gt;</td>\n",
       "    </tr>\n",
       "    <tr>\n",
       "      <th>16</th>\n",
       "      <td>enault.txt</td>\n",
       "      <td>70051</td>\n",
       "      <td>anti</td>\n",
       "      <td>floréal</td>\n",
       "      <td>15</td>\n",
       "      <td>&lt;sb&gt;</td>\n",
       "      <td>&lt;pb&gt; paris, 21 floréal an 73.</td>\n",
       "    </tr>\n",
       "    <tr>\n",
       "      <th>17</th>\n",
       "      <td>enault.txt</td>\n",
       "      <td>70051</td>\n",
       "      <td>anti</td>\n",
       "      <td>floréal</td>\n",
       "      <td>24</td>\n",
       "      <td>&lt;sb&gt;</td>\n",
       "      <td>&lt;pb&gt; hôtel de ville, 24 floréal an 79.</td>\n",
       "    </tr>\n",
       "    <tr>\n",
       "      <th>18</th>\n",
       "      <td>enault.txt</td>\n",
       "      <td>70051</td>\n",
       "      <td>anti</td>\n",
       "      <td>floréal</td>\n",
       "      <td>27</td>\n",
       "      <td>&lt;sb&gt;</td>\n",
       "      <td>&lt;pb&gt; hôtel de ville, le 26 floréal an 79.</td>\n",
       "    </tr>\n",
       "    <tr>\n",
       "      <th>19</th>\n",
       "      <td>enault.txt</td>\n",
       "      <td>70051</td>\n",
       "      <td>anti</td>\n",
       "      <td>floréal</td>\n",
       "      <td>202</td>\n",
       "      <td>&lt;sb&gt;</td>\n",
       "      <td>&lt;pb&gt; gardes nationaux ! votre choix est fait :...</td>\n",
       "    </tr>\n",
       "    <tr>\n",
       "      <th>20</th>\n",
       "      <td>enault.txt</td>\n",
       "      <td>70051</td>\n",
       "      <td>anti</td>\n",
       "      <td>floréal</td>\n",
       "      <td>18</td>\n",
       "      <td>&lt;sb&gt;</td>\n",
       "      <td>&lt;pb&gt; paris, le 27 floréal an 72.</td>\n",
       "    </tr>\n",
       "    <tr>\n",
       "      <th>21</th>\n",
       "      <td>fayard.txt</td>\n",
       "      <td>193091</td>\n",
       "      <td>anti</td>\n",
       "      <td>floréal</td>\n",
       "      <td>50</td>\n",
       "      <td>&lt;sb&gt;</td>\n",
       "      <td>&lt;sb&gt; les fleurs les plus belles s'épanouissent...</td>\n",
       "    </tr>\n",
       "    <tr>\n",
       "      <th>22</th>\n",
       "      <td>fayard.txt</td>\n",
       "      <td>193091</td>\n",
       "      <td>anti</td>\n",
       "      <td>floréal</td>\n",
       "      <td>5</td>\n",
       "      <td>&lt;sb&gt;</td>\n",
       "      <td>&lt;pb&gt; floréal, pour la commune, ne fut pas un m...</td>\n",
       "    </tr>\n",
       "    <tr>\n",
       "      <th>23</th>\n",
       "      <td>fayard.txt</td>\n",
       "      <td>193091</td>\n",
       "      <td>anti</td>\n",
       "      <td>floréal</td>\n",
       "      <td>77</td>\n",
       "      <td>&lt;sb&gt;</td>\n",
       "      <td>&lt;pb&gt; tel est à bord des pontons de cherbourg l...</td>\n",
       "    </tr>\n",
       "    <tr>\n",
       "      <th>24</th>\n",
       "      <td>rodrigues.txt</td>\n",
       "      <td>58363</td>\n",
       "      <td>anti</td>\n",
       "      <td>floréal</td>\n",
       "      <td>27</td>\n",
       "      <td>&lt;sb&gt;</td>\n",
       "      <td>&lt;pb&gt; hôtel-de-ville,-le 28 floréal, an 79.</td>\n",
       "    </tr>\n",
       "    <tr>\n",
       "      <th>25</th>\n",
       "      <td>rodrigues.txt</td>\n",
       "      <td>58363</td>\n",
       "      <td>anti</td>\n",
       "      <td>floréal</td>\n",
       "      <td>11</td>\n",
       "      <td>&lt;sb&gt;</td>\n",
       "      <td>&lt;pb&gt; le 13 floréal an 79, y officiel 'publia l...</td>\n",
       "    </tr>\n",
       "  </tbody>\n",
       "</table>\n",
       "</div>"
      ],
      "text/plain": [
       "         filename  memoir_len_sans_sb_pb  bias      woi  woi_location   \n",
       "0      beslay.txt                  49273   pro  floréal            20  \\\n",
       "1       arsac.txt                 141550  anti  floréal            20   \n",
       "2       arsac.txt                 141550  anti  floréal            20   \n",
       "3       arsac.txt                 141550  anti  floréal            17   \n",
       "4       arsac.txt                 141550  anti  floréal            29   \n",
       "5       arsac.txt                 141550  anti  floréal            30   \n",
       "6       arsac.txt                 141550  anti  floréal            20   \n",
       "7       arsac.txt                 141550  anti  floréal            29   \n",
       "8       arsac.txt                 141550  anti  floréal            87   \n",
       "9       arsac.txt                 141550  anti  floréal           209   \n",
       "10      arsac.txt                 141550  anti  floréal            29   \n",
       "11      arsac.txt                 141550  anti  floréal            29   \n",
       "12      arsac.txt                 141550  anti  floréal            20   \n",
       "13     dupont.txt                  76206  anti  floréal            50   \n",
       "14  du_camp_1.txt                 118984  anti  floréal           180   \n",
       "15  du_camp_1.txt                 118984  anti  floréal            18   \n",
       "16     enault.txt                  70051  anti  floréal            15   \n",
       "17     enault.txt                  70051  anti  floréal            24   \n",
       "18     enault.txt                  70051  anti  floréal            27   \n",
       "19     enault.txt                  70051  anti  floréal           202   \n",
       "20     enault.txt                  70051  anti  floréal            18   \n",
       "21     fayard.txt                 193091  anti  floréal            50   \n",
       "22     fayard.txt                 193091  anti  floréal             5   \n",
       "23     fayard.txt                 193091  anti  floréal            77   \n",
       "24  rodrigues.txt                  58363  anti  floréal            27   \n",
       "25  rodrigues.txt                  58363  anti  floréal            11   \n",
       "\n",
       "   extraction_method                                               text  \n",
       "0               <sb>                <pb> « paris, le 27 floréal an 79.   \n",
       "1               <sb>                <pb> « paris, le-16 floréal an 79.   \n",
       "2               <sb>                <pb> « paris, le 16 floréal an 79.   \n",
       "3               <sb>                   <pb> « paris, 21 floréal an 79.   \n",
       "4               <sb>   <pb> « hùtfl-de-ville, le 24 floréal an 79. <sb>  \n",
       "5               <sb>      <pb> « ilôtel-de-ville, le 25 floréal an 79.   \n",
       "6               <sb>                <pb> « paris, le 25 floréal an 79.   \n",
       "7               <sb>       <pb> « hôtet-de-ville, le 26 floréal an 79.   \n",
       "8               <sb>  <pb> « quatre des coupables sont entre les mai...  \n",
       "9               <sb>  <pb> « gardes nationaux! votre choix est fait ...  \n",
       "10              <sb>       <pb> « hôtel-de-ville, le 28 floréal an 79.   \n",
       "11              <sb>       <pb> « hôtel-de-ville, le 28 floréal an 79.   \n",
       "12              <sb>                <pb> « paris, le 29 floréal an 79.   \n",
       "13              <sb>  <pb> leur journal officiel, paré de la date du...  \n",
       "14              <sb>  <sb> il s'y installa et n'eut que peu de temps...  \n",
       "15              <sb>           <sb> paris, le 19 floréal an lxxix. <sb>  \n",
       "16              <sb>                     <pb> paris, 21 floréal an 73.   \n",
       "17              <sb>            <pb> hôtel de ville, 24 floréal an 79.   \n",
       "18              <sb>         <pb> hôtel de ville, le 26 floréal an 79.   \n",
       "19              <sb>  <pb> gardes nationaux ! votre choix est fait :...  \n",
       "20              <sb>                  <pb> paris, le 27 floréal an 72.   \n",
       "21              <sb>  <sb> les fleurs les plus belles s'épanouissent...  \n",
       "22              <sb>  <pb> floréal, pour la commune, ne fut pas un m...  \n",
       "23              <sb>  <pb> tel est à bord des pontons de cherbourg l...  \n",
       "24              <sb>        <pb> hôtel-de-ville,-le 28 floréal, an 79.   \n",
       "25              <sb>  <pb> le 13 floréal an 79, y officiel 'publia l...  "
      ]
     },
     "execution_count": 83,
     "metadata": {},
     "output_type": "execute_result"
    }
   ],
   "source": [
    "extract_woi_context(data, ['floréal'], \"<sb>\")"
   ]
  },
  {
   "cell_type": "code",
   "execution_count": 82,
   "id": "12b80e4e",
   "metadata": {},
   "outputs": [
    {
     "name": "stderr",
     "output_type": "stream",
     "text": [
      "31it [00:02, 14.12it/s]\n"
     ]
    },
    {
     "name": "stdout",
     "output_type": "stream",
     "text": [
      "pro:\n",
      "spectre: 0.18633101085572115\n",
      "boulevards: 0.10351722825317843\n",
      "jaune: 0.10351722825317843\n",
      "pirate: 0.10351722825317843\n",
      "simon: 0.10351722825317843\n",
      "derniers: 0.08281378260254274\n",
      "ferré: 0.08281378260254274\n",
      "honte: 0.08281378260254274\n",
      "maire: 0.08281378260254274\n",
      "partie: 0.08281378260254274\n",
      "\n",
      "anti:\n",
      "parti: 0.12688825371490364\n",
      "revolver: 0.12688825371490364\n",
      "000: 0.11102722200054069\n",
      "devait: 0.11102722200054069\n",
      "loque: 0.11102722200054069\n",
      "maison: 0.11102722200054069\n",
      "palais: 0.11102722200054069\n",
      "affiche: 0.09516619028617772\n",
      "carnaval: 0.09516619028617772\n",
      "1870: 0.07930515857181478\n",
      "\n"
     ]
    }
   ],
   "source": [
    "tfidf_words(['rouge'])"
   ]
  },
  {
   "cell_type": "code",
   "execution_count": 152,
   "id": "8cb5ef6e",
   "metadata": {},
   "outputs": [],
   "source": [
    "def recursive_find_adjs(root, sent):\n",
    "        children = [w for w in sent.words if w.head == root.id]\n",
    "        if not children:\n",
    "            return []\n",
    "        filtered_c = [w for w in children if w.deprel == \"conj\" and w.upos == \"ADJ\"]\n",
    "        # Do not include an adjective if it is the parent of a noun to prevent\n",
    "        results = [w for w in filtered_c if not any(sub.head == w.id and sub.upos == \"NOUN\" for sub in sent.words)]\n",
    "        for w in children:\n",
    "            results += recursive_find_adjs(w, sent)\n",
    "        return results\n",
    "\n",
    "def extract_noun_adj_pairs(text, stanz_nlp):\n",
    "    text = text.replace(\"<sb>\",\"\").replace(\"<pb>\",\"\")\n",
    "    doc = stanz_nlp(text)\n",
    "    noun_adj_pairs = {}\n",
    "    for sent in doc.sentences:\n",
    "        nouns = [w for w in sent.words if w.upos == \"NOUN\"]\n",
    "        for noun in nouns:\n",
    "            cop_root = sent.words[noun.head-1]\n",
    "            adjs = [cop_root] + recursive_find_adjs(cop_root, sent) if cop_root.upos == \"ADJ\" else []\n",
    "            mod_adjs = [w for w in sent.words if w.head == noun.id and w.upos == \"ADJ\"]\n",
    "            if mod_adjs:\n",
    "                mod_adj = mod_adjs[0]\n",
    "                adjs.extend([mod_adj] + recursive_find_adjs(mod_adj, sent))\n",
    "            if adjs:\n",
    "                unique_adjs = []\n",
    "                unique_ids = set()\n",
    "                for adj in adjs:\n",
    "                    if adj.id not in unique_ids:\n",
    "                        unique_adjs.append(adj)\n",
    "                        unique_ids.add(adj.id)\n",
    "                noun_adj_pairs[noun.text] = \" \".join([adj.text for adj in unique_adjs])\n",
    "    return noun_adj_pairs"
   ]
  },
  {
   "cell_type": "code",
   "execution_count": 158,
   "id": "6919770d",
   "metadata": {
    "scrolled": true
   },
   "outputs": [
    {
     "name": "stderr",
     "output_type": "stream",
     "text": [
      "2023-05-29 19:17:13 INFO: Checking for updates to resources.json in case models have been updated.  Note: this behavior can be turned off with download_method=None or download_method=DownloadMethod.REUSE_RESOURCES\n"
     ]
    },
    {
     "data": {
      "application/vnd.jupyter.widget-view+json": {
       "model_id": "1cea6d611dda4322b20b4cbb701db66b",
       "version_major": 2,
       "version_minor": 0
      },
      "text/plain": [
       "Downloading https://raw.githubusercontent.com/stanfordnlp/stanza-resources/main/resources_1.5.0.json:   0%|   …"
      ]
     },
     "metadata": {},
     "output_type": "display_data"
    },
    {
     "data": {
      "application/vnd.jupyter.widget-view+json": {
       "model_id": "4eb4f70ffe254f91b69e8816e1c033ae",
       "version_major": 2,
       "version_minor": 0
      },
      "text/plain": [
       "Downloading https://huggingface.co/stanfordnlp/stanza-fr/resolve/v1.5.0/models/tokenize/gsd.pt:   0%|         …"
      ]
     },
     "metadata": {},
     "output_type": "display_data"
    },
    {
     "data": {
      "application/vnd.jupyter.widget-view+json": {
       "model_id": "e63e8e57b1b44946bd950eb95c183301",
       "version_major": 2,
       "version_minor": 0
      },
      "text/plain": [
       "Downloading https://huggingface.co/stanfordnlp/stanza-fr/resolve/v1.5.0/models/mwt/gsd.pt:   0%|          | 0.…"
      ]
     },
     "metadata": {},
     "output_type": "display_data"
    },
    {
     "data": {
      "application/vnd.jupyter.widget-view+json": {
       "model_id": "ddfd44f5e0874657912bfbc17b721d2e",
       "version_major": 2,
       "version_minor": 0
      },
      "text/plain": [
       "Downloading https://huggingface.co/stanfordnlp/stanza-fr/resolve/v1.5.0/models/pos/gsd.pt:   0%|          | 0.…"
      ]
     },
     "metadata": {},
     "output_type": "display_data"
    },
    {
     "data": {
      "application/vnd.jupyter.widget-view+json": {
       "model_id": "ed75d1a028064c999e68782dfa3cf064",
       "version_major": 2,
       "version_minor": 0
      },
      "text/plain": [
       "Downloading https://huggingface.co/stanfordnlp/stanza-fr/resolve/v1.5.0/models/lemma/gsd.pt:   0%|          | …"
      ]
     },
     "metadata": {},
     "output_type": "display_data"
    },
    {
     "data": {
      "application/vnd.jupyter.widget-view+json": {
       "model_id": "19de7444a0bf4d3cb29cce0003256f94",
       "version_major": 2,
       "version_minor": 0
      },
      "text/plain": [
       "Downloading https://huggingface.co/stanfordnlp/stanza-fr/resolve/v1.5.0/models/depparse/gsd.pt:   0%|         …"
      ]
     },
     "metadata": {},
     "output_type": "display_data"
    },
    {
     "data": {
      "application/vnd.jupyter.widget-view+json": {
       "model_id": "0566e34a740a4b0f9fd77d34310b28fc",
       "version_major": 2,
       "version_minor": 0
      },
      "text/plain": [
       "Downloading https://huggingface.co/stanfordnlp/stanza-fr/resolve/v1.5.0/models/ner/wikiner.pt:   0%|          …"
      ]
     },
     "metadata": {},
     "output_type": "display_data"
    },
    {
     "data": {
      "application/vnd.jupyter.widget-view+json": {
       "model_id": "01c5e5bf6a4745f79ac168f9a67d8b81",
       "version_major": 2,
       "version_minor": 0
      },
      "text/plain": [
       "Downloading https://huggingface.co/stanfordnlp/stanza-fr/resolve/v1.5.0/models/backward_charlm/newswiki.pt:   …"
      ]
     },
     "metadata": {},
     "output_type": "display_data"
    },
    {
     "data": {
      "application/vnd.jupyter.widget-view+json": {
       "model_id": "f2bcebe636d54f78903c233962dbcc67",
       "version_major": 2,
       "version_minor": 0
      },
      "text/plain": [
       "Downloading https://huggingface.co/stanfordnlp/stanza-fr/resolve/v1.5.0/models/pretrain/conll17.pt:   0%|     …"
      ]
     },
     "metadata": {},
     "output_type": "display_data"
    },
    {
     "data": {
      "application/vnd.jupyter.widget-view+json": {
       "model_id": "cb6d413b127a4790a37f8de7d95fc8ed",
       "version_major": 2,
       "version_minor": 0
      },
      "text/plain": [
       "Downloading https://huggingface.co/stanfordnlp/stanza-fr/resolve/v1.5.0/models/pretrain/fasttextwiki.pt:   0%|…"
      ]
     },
     "metadata": {},
     "output_type": "display_data"
    },
    {
     "data": {
      "application/vnd.jupyter.widget-view+json": {
       "model_id": "f62c3787175c4c0bad25d4a0a8a6d0d4",
       "version_major": 2,
       "version_minor": 0
      },
      "text/plain": [
       "Downloading https://huggingface.co/stanfordnlp/stanza-fr/resolve/v1.5.0/models/forward_charlm/newswiki.pt:   0…"
      ]
     },
     "metadata": {},
     "output_type": "display_data"
    },
    {
     "name": "stderr",
     "output_type": "stream",
     "text": [
      "2023-05-29 19:18:11 INFO: Loading these models for language: fr (French):\n",
      "=======================\n",
      "| Processor | Package |\n",
      "-----------------------\n",
      "| tokenize  | gsd     |\n",
      "| mwt       | gsd     |\n",
      "| pos       | gsd     |\n",
      "| lemma     | gsd     |\n",
      "| depparse  | gsd     |\n",
      "| ner       | wikiner |\n",
      "=======================\n",
      "\n",
      "2023-05-29 19:18:11 INFO: Using device: cpu\n",
      "2023-05-29 19:18:11 INFO: Loading: tokenize\n",
      "2023-05-29 19:18:11 INFO: Loading: mwt\n",
      "2023-05-29 19:18:11 INFO: Loading: pos\n",
      "2023-05-29 19:18:12 INFO: Loading: lemma\n",
      "2023-05-29 19:18:12 INFO: Loading: depparse\n",
      "2023-05-29 19:18:12 INFO: Loading: ner\n",
      "2023-05-29 19:18:13 INFO: Done loading processors!\n"
     ]
    }
   ],
   "source": [
    "stanz_nlp = stanza.Pipeline(\"fr\")"
   ]
  },
  {
   "cell_type": "code",
   "execution_count": 176,
   "id": "a2da5277",
   "metadata": {},
   "outputs": [],
   "source": [
    "tqdm.pandas()"
   ]
  },
  {
   "cell_type": "code",
   "execution_count": 178,
   "id": "52dd9b5d",
   "metadata": {},
   "outputs": [
    {
     "name": "stderr",
     "output_type": "stream",
     "text": [
      "31it [00:03,  9.04it/s]\n",
      "100%|██████████████████████████████████████████████████████████████████████████████| 1315/1315 [37:03<00:00,  1.69s/it]\n"
     ]
    }
   ],
   "source": [
    "extract = extract_woi_context(data, ['garde nationale'], \"<sb>\")\n",
    "pd.set_option('max_colwidth', 400)\n",
    "extract[\"noun_adj_pairs\"] = extract[\"text\"].progress_apply(extract_noun_adj_pairs, args=(stanz_nlp,))"
   ]
  },
  {
   "cell_type": "code",
   "execution_count": 187,
   "id": "b155c826",
   "metadata": {},
   "outputs": [],
   "source": [
    "pro = goncourt[goncourt.bias == 'pro']\n",
    "anti = goncourt[goncourt.bias == 'anti']"
   ]
  },
  {
   "cell_type": "code",
   "execution_count": 188,
   "id": "a315f069",
   "metadata": {},
   "outputs": [],
   "source": [
    "pro_adj = pro.noun_adj_pairs.values\n",
    "anti_adj = anti.noun_adj_pairs.values"
   ]
  },
  {
   "cell_type": "code",
   "execution_count": 189,
   "id": "08cbf2aa",
   "metadata": {},
   "outputs": [],
   "source": [
    "p_adj = []\n",
    "a_adj = []\n",
    "# Itération à travers chaque dictionnaire\n",
    "for dictionnaire in pro_adj:\n",
    "    # Récupération des valeurs du dictionnaire courant\n",
    "    valeurs = dictionnaire.items()\n",
    "    # Ajout des valeurs à la liste\n",
    "    p_adj.extend(valeurs)\n",
    "    \n",
    "for dictionnaire in anti_adj:\n",
    "    # Récupération des valeurs du dictionnaire courant\n",
    "    valeurs = dictionnaire.items()\n",
    "    # Ajout des valeurs à la liste\n",
    "    a_adj.extend(valeurs)\n"
   ]
  },
  {
   "cell_type": "code",
   "execution_count": 190,
   "id": "e889b600",
   "metadata": {},
   "outputs": [
    {
     "name": "stdout",
     "output_type": "stream",
     "text": [
      "\n",
      "('gardes', 'nationaux') 17\n",
      "('comité', 'central') 17\n",
      "('salut', 'public') 16\n",
      "('comité', 'public') 14\n",
      "('garde', 'nationale') 13\n",
      "('Journal', 'officiel') 8\n",
      "('cour', 'martiale') 8\n",
      "('délégué', 'civil') 8\n",
      "('directeur', 'général') 5\n",
      "('sûreté', 'générale') 5\n"
     ]
    }
   ],
   "source": [
    "from collections import Counter\n",
    "\n",
    "# Comptage des occurrences des éléments\n",
    "p_compteur = Counter(p_adj)\n",
    "a_compteur = Counter(a_adj)\n",
    "\n",
    "# Obtention du top 10 des éléments les plus mentionnés\n",
    "p_top_10 = p_compteur.most_common(10)\n",
    "a_top_10 = a_compteur.most_common(10)\n",
    "# Affichage du top 10\n",
    "for element, count in p_top_10:\n",
    "    print(element, count)\n",
    "print()\n",
    "for element, count in a_top_10:\n",
    "    print(element, count)"
   ]
  },
  {
   "cell_type": "code",
   "execution_count": 174,
   "id": "557a6608",
   "metadata": {},
   "outputs": [],
   "source": [
    "extract.to_pickle('thiers_adj.pkl')"
   ]
  },
  {
   "cell_type": "code",
   "execution_count": 184,
   "id": "62564446",
   "metadata": {},
   "outputs": [],
   "source": [
    "goncourt = pd.read_pickle('goncourt_arsac_dip.pkl')"
   ]
  }
 ],
 "metadata": {
  "kernelspec": {
   "display_name": "Python 3 (ipykernel)",
   "language": "python",
   "name": "python3"
  },
  "language_info": {
   "codemirror_mode": {
    "name": "ipython",
    "version": 3
   },
   "file_extension": ".py",
   "mimetype": "text/x-python",
   "name": "python",
   "nbconvert_exporter": "python",
   "pygments_lexer": "ipython3",
   "version": "3.9.13"
  }
 },
 "nbformat": 4,
 "nbformat_minor": 5
}
