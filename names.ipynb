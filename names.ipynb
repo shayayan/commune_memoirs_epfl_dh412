{
 "cells": [
  {
   "cell_type": "code",
   "execution_count": 3,
   "id": "010cc641",
   "metadata": {},
   "outputs": [
    {
     "name": "stderr",
     "output_type": "stream",
     "text": [
      "[nltk_data] Downloading package stopwords to\n",
      "[nltk_data]     C:\\Users\\shaya\\AppData\\Roaming\\nltk_data...\n",
      "[nltk_data]   Package stopwords is already up-to-date!\n",
      "[nltk_data] Downloading package punkt to\n",
      "[nltk_data]     C:\\Users\\shaya\\AppData\\Roaming\\nltk_data...\n",
      "[nltk_data]   Package punkt is already up-to-date!\n",
      "[nltk_data] Downloading package averaged_perceptron_tagger to\n",
      "[nltk_data]     C:\\Users\\shaya\\AppData\\Roaming\\nltk_data...\n",
      "[nltk_data]   Package averaged_perceptron_tagger is already up-to-\n",
      "[nltk_data]       date!\n",
      "[nltk_data] Downloading package maxent_ne_chunker to\n",
      "[nltk_data]     C:\\Users\\shaya\\AppData\\Roaming\\nltk_data...\n",
      "[nltk_data]   Package maxent_ne_chunker is already up-to-date!\n",
      "[nltk_data] Downloading package words to\n",
      "[nltk_data]     C:\\Users\\shaya\\AppData\\Roaming\\nltk_data...\n",
      "[nltk_data]   Package words is already up-to-date!\n"
     ]
    }
   ],
   "source": [
    "import pandas as pd\n",
    "import numpy as np\n",
    "from collections import Counter\n",
    "import nltk\n",
    "import gensim\n",
    "import re\n",
    "import pickle\n",
    "from nltk.stem.snowball import FrenchStemmer\n",
    "from nltk.tokenize import word_tokenize\n",
    "from nltk.corpus import stopwords\n",
    "nltk.download('stopwords')\n",
    "nltk.download('punkt')\n",
    "nltk.download('averaged_perceptron_tagger')\n",
    "nltk.download('maxent_ne_chunker')\n",
    "nltk.download('words')\n",
    "from nltk import ne_chunk, pos_tag, word_tokenize\n",
    "from nltk.tree import Tree"
   ]
  },
  {
   "cell_type": "code",
   "execution_count": 4,
   "id": "83752b61",
   "metadata": {},
   "outputs": [],
   "source": [
    "with open('memoirs_preprocessed_maj.pkl', 'rb') as f:\n",
    "    data = pickle.load(f)"
   ]
  },
  {
   "cell_type": "code",
   "execution_count": 5,
   "id": "8a3ea35a",
   "metadata": {},
   "outputs": [],
   "source": [
    "leo = data.processed_text.values[1]"
   ]
  },
  {
   "cell_type": "code",
   "execution_count": 6,
   "id": "eed8158e",
   "metadata": {},
   "outputs": [
    {
     "name": "stdout",
     "output_type": "stream",
     "text": [
      "I like apples\n"
     ]
    }
   ],
   "source": [
    "txt = \"I like bananas\"\n",
    "\n",
    "x = txt.replace(\"bananas\", \"apples\")\n",
    "\n",
    "print(x)"
   ]
  },
  {
   "cell_type": "code",
   "execution_count": 7,
   "id": "25f85dd0",
   "metadata": {},
   "outputs": [
    {
     "name": "stdout",
     "output_type": "stream",
     "text": [
      "Type:  GPE Name:  Je \n",
      "Type:  PERSON Name:  Leo \n",
      "Type:  GPE Name:  Paris \n"
     ]
    }
   ],
   "source": [
    "text = leo\n",
    "text = text.replace(\"SB\", \"\")\n",
    "text = text.replace(\"PB\", \"\")\n",
    "text = \"Je suis allé à Leo avec Paris\"\n",
    "nltk_results = ne_chunk(pos_tag(word_tokenize(text, language = 'french')))\n",
    "for nltk_result in nltk_results:\n",
    "    if type(nltk_result) == Tree:\n",
    "        name = ''\n",
    "        for nltk_result_leaf in nltk_result.leaves():\n",
    "            name += nltk_result_leaf[0] + ' '\n",
    "        print ('Type: ', nltk_result.label(), 'Name: ', name)"
   ]
  },
  {
   "cell_type": "code",
   "execution_count": 8,
   "id": "2d4fadfe",
   "metadata": {},
   "outputs": [],
   "source": [
    "def update_dictionary(key):\n",
    "    if key in my_dict:\n",
    "        my_dict[key] += 1\n",
    "    else:\n",
    "        my_dict[key] = 1"
   ]
  },
  {
   "cell_type": "code",
   "execution_count": 9,
   "id": "e4aeda58",
   "metadata": {},
   "outputs": [],
   "source": [
    "names = dict()\n",
    "for t in data.processed_text.values:\n",
    "    nltk_results = ne_chunk(pos_tag(word_tokenize(t, language = 'french')))\n",
    "    for nltk_result in nltk_results:\n",
    "        if type(nltk_result) == Tree:\n",
    "            name = ''\n",
    "            for nltk_result_leaf in nltk_result.leaves():\n",
    "                name += nltk_result_leaf[0] + ' '\n",
    "            if (nltk_result.label() == \"PERSON\" and len(name.split()) > 1) :\n",
    "                if name in names:\n",
    "                    names[name] += 1\n",
    "                else:\n",
    "                    names[name] = 1"
   ]
  },
  {
   "cell_type": "code",
   "execution_count": 14,
   "id": "4f994570",
   "metadata": {},
   "outputs": [],
   "source": [
    "sorted_dict = sorted(names.items(), key=lambda x:x[1], reverse = True)"
   ]
  },
  {
   "cell_type": "code",
   "execution_count": 31,
   "id": "c178effe",
   "metadata": {},
   "outputs": [],
   "source": [
    "favres = [item[0][:-1] for item in sorted_dict if \"Pyat\" in item[0]]"
   ]
  },
  {
   "cell_type": "code",
   "execution_count": 32,
   "id": "16c5a355",
   "metadata": {},
   "outputs": [
    {
     "data": {
      "text/plain": [
       "['Félix Pyat',\n",
       " 'Citoyen Félix Pyat',\n",
       " 'Monsieur Félix Pyat',\n",
       " 'Félix Pyat Vous',\n",
       " 'Fétix Pyat',\n",
       " 'Féiix Pyat',\n",
       " 'Pyat Avant',\n",
       " 'Monsieur Pyat']"
      ]
     },
     "execution_count": 32,
     "metadata": {},
     "output_type": "execute_result"
    }
   ],
   "source": [
    "favres"
   ]
  },
  {
   "cell_type": "code",
   "execution_count": 40,
   "id": "1c64133f",
   "metadata": {},
   "outputs": [
    {
     "data": {
      "text/plain": [
       "['Raoul Rigault', 'Jules Favre', 'Garde Nationale', 'Félix Pyat', 'La Commune']"
      ]
     },
     "execution_count": 40,
     "metadata": {},
     "output_type": "execute_result"
    }
   ],
   "source": [
    "top_5 = [item[0][:-1] for item in sorted_dict[:20]][:5]\n",
    "top_5"
   ]
  },
  {
   "cell_type": "code",
   "execution_count": 41,
   "id": "1785cdeb",
   "metadata": {},
   "outputs": [],
   "source": [
    "filename = 'names.pkl'\n",
    "with open(filename, 'wb') as pickle_file:\n",
    "    pickle.dump(top_5, pickle_file)"
   ]
  }
 ],
 "metadata": {
  "kernelspec": {
   "display_name": "Python 3 (ipykernel)",
   "language": "python",
   "name": "python3"
  },
  "language_info": {
   "codemirror_mode": {
    "name": "ipython",
    "version": 3
   },
   "file_extension": ".py",
   "mimetype": "text/x-python",
   "name": "python",
   "nbconvert_exporter": "python",
   "pygments_lexer": "ipython3",
   "version": "3.9.13"
  }
 },
 "nbformat": 4,
 "nbformat_minor": 5
}
